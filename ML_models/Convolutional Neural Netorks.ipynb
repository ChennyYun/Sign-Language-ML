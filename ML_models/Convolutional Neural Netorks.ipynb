{
 "cells": [
  {
   "cell_type": "code",
   "execution_count": 1,
   "id": "b2c95f66",
   "metadata": {},
   "outputs": [],
   "source": [
    "import numpy as np\n",
    "import pandas as pd\n",
    "import matplotlib.pyplot as plt"
   ]
  },
  {
   "cell_type": "code",
   "execution_count": 2,
   "id": "659413c0",
   "metadata": {},
   "outputs": [],
   "source": [
    "train_df = pd.read_csv(\"../csv_files/sign_mnist_train.csv\")\n",
    "test_df = pd.read_csv(\"../csv_files/sign_mnist_test.csv\")"
   ]
  },
  {
   "cell_type": "code",
   "execution_count": 3,
   "id": "513e0c9a",
   "metadata": {},
   "outputs": [
    {
     "name": "stdout",
     "output_type": "stream",
     "text": [
      "Training data shape :  (27455, 785)\n",
      "Testing data shape :  (7172, 785)\n"
     ]
    }
   ],
   "source": [
    "print('Training data shape : ', train_df.shape)\n",
    "\n",
    "print('Testing data shape : ', test_df.shape)"
   ]
  },
  {
   "cell_type": "code",
   "execution_count": 4,
   "id": "0ade3b9d",
   "metadata": {},
   "outputs": [],
   "source": [
    "train_images = train_df.loc[:, \"pixel1\":\"pixel784\"].values.reshape(27455, 28, 28, 1)/255.0\n",
    "train_labels = train_df.loc[:, \"label\"].values\n",
    "test_images = test_df.loc[:, \"pixel1\":\"pixel784\"].values.reshape(7172, 28, 28, 1)/255.0\n",
    "test_labels = test_df.loc[:, \"label\"].values"
   ]
  },
  {
   "cell_type": "code",
   "execution_count": 5,
   "id": "26e2913a",
   "metadata": {},
   "outputs": [],
   "source": [
    "import tensorflow as tf\n",
    "from tensorflow.keras import layers, models\n",
    "from keras.layers import Dropout"
   ]
  },
  {
   "cell_type": "code",
   "execution_count": 6,
   "id": "93a37c6e",
   "metadata": {},
   "outputs": [],
   "source": [
    "first_mod = models.Sequential()\n",
    "first_mod.add(layers.Conv2D(32, (3, 3), activation='relu', input_shape=(28, 28, 1)))\n",
    "first_mod.add(layers.MaxPooling2D((2, 2)))\n",
    "first_mod.add(layers.Conv2D(32, (3, 3), activation='relu'))\n",
    "first_mod.add(layers.Flatten())\n",
    "first_mod.add(layers.Dense(32, activation='relu'))\n",
    "first_mod.add(layers.Dense(25))"
   ]
  },
  {
   "cell_type": "code",
   "execution_count": 7,
   "id": "5b7b8a89",
   "metadata": {},
   "outputs": [
    {
     "name": "stdout",
     "output_type": "stream",
     "text": [
      "Model: \"sequential\"\n",
      "_________________________________________________________________\n",
      " Layer (type)                Output Shape              Param #   \n",
      "=================================================================\n",
      " conv2d (Conv2D)             (None, 26, 26, 32)        320       \n",
      "                                                                 \n",
      " max_pooling2d (MaxPooling2D  (None, 13, 13, 32)       0         \n",
      " )                                                               \n",
      "                                                                 \n",
      " conv2d_1 (Conv2D)           (None, 11, 11, 32)        9248      \n",
      "                                                                 \n",
      " flatten (Flatten)           (None, 3872)              0         \n",
      "                                                                 \n",
      " dense (Dense)               (None, 32)                123936    \n",
      "                                                                 \n",
      " dense_1 (Dense)             (None, 25)                825       \n",
      "                                                                 \n",
      "=================================================================\n",
      "Total params: 134,329\n",
      "Trainable params: 134,329\n",
      "Non-trainable params: 0\n",
      "_________________________________________________________________\n"
     ]
    }
   ],
   "source": [
    "first_mod.summary()"
   ]
  },
  {
   "cell_type": "code",
   "execution_count": 8,
   "id": "4ae65945",
   "metadata": {
    "scrolled": true
   },
   "outputs": [
    {
     "name": "stdout",
     "output_type": "stream",
     "text": [
      "Epoch 1/10\n",
      "2746/2746 [==============================] - 12s 4ms/step - loss: 1.2780 - accuracy: 0.5834 - val_loss: 1.2029 - val_accuracy: 0.6276\n",
      "Epoch 2/10\n",
      "2746/2746 [==============================] - 11s 4ms/step - loss: 0.2932 - accuracy: 0.9068 - val_loss: 1.0525 - val_accuracy: 0.7252\n",
      "Epoch 3/10\n",
      "2746/2746 [==============================] - 11s 4ms/step - loss: 0.0947 - accuracy: 0.9743 - val_loss: 1.3715 - val_accuracy: 0.7567\n",
      "Epoch 4/10\n",
      "2746/2746 [==============================] - 11s 4ms/step - loss: 0.0403 - accuracy: 0.9893 - val_loss: 2.1570 - val_accuracy: 0.6821\n",
      "Epoch 5/10\n",
      "2746/2746 [==============================] - 12s 4ms/step - loss: 0.0258 - accuracy: 0.9928 - val_loss: 1.5230 - val_accuracy: 0.7761\n",
      "Epoch 6/10\n",
      "2746/2746 [==============================] - 12s 4ms/step - loss: 0.0260 - accuracy: 0.9928 - val_loss: 1.5540 - val_accuracy: 0.7789\n",
      "Epoch 7/10\n",
      "2746/2746 [==============================] - 11s 4ms/step - loss: 0.0117 - accuracy: 0.9971 - val_loss: 1.8074 - val_accuracy: 0.7711\n",
      "Epoch 8/10\n",
      "2746/2746 [==============================] - 11s 4ms/step - loss: 0.0190 - accuracy: 0.9949 - val_loss: 2.0323 - val_accuracy: 0.7704\n",
      "Epoch 9/10\n",
      "2746/2746 [==============================] - 11s 4ms/step - loss: 0.0132 - accuracy: 0.9965 - val_loss: 1.9232 - val_accuracy: 0.7829\n",
      "Epoch 10/10\n",
      "2746/2746 [==============================] - 11s 4ms/step - loss: 0.0175 - accuracy: 0.9950 - val_loss: 1.7477 - val_accuracy: 0.7853\n"
     ]
    }
   ],
   "source": [
    "first_mod.compile(optimizer='adam',\n",
    "            loss=tf.keras.losses.SparseCategoricalCrossentropy(from_logits=True),\n",
    "              metrics=['accuracy'])\n",
    "\n",
    "first_history = first_mod.fit(train_images, train_labels, \n",
    "          validation_data = (test_images, test_labels), \n",
    "          epochs= 10, batch_size= 10)"
   ]
  },
  {
   "cell_type": "code",
   "execution_count": 9,
   "id": "28cda522",
   "metadata": {},
   "outputs": [
    {
     "name": "stdout",
     "output_type": "stream",
     "text": [
      "225/225 - 1s - loss: 1.7477 - accuracy: 0.7853 - 629ms/epoch - 3ms/step\n"
     ]
    },
    {
     "data": {
      "image/png": "[encoded data removed]",
      "text/plain": [
       "<Figure size 432x288 with 1 Axes>"
      ]
     },
     "metadata": {
      "needs_background": "light"
     },
     "output_type": "display_data"
    }
   ],
   "source": [
    "plt.plot(first_history.history['accuracy'], label='train_accuracy')\n",
    "plt.plot(first_history.history['val_accuracy'], label = 'val_accuracy')\n",
    "plt.xlabel('Epoch')\n",
    "plt.ylabel('Accuracy')\n",
    "plt.ylim([0.5, 1])\n",
    "plt.legend(loc='lower right')\n",
    "plt.title('Base Model Accuracy v. Epoch')\n",
    "test_loss, test_acc = first_mod.evaluate(test_images,  test_labels, verbose=2)\n",
    "plt.savefig(\"first_mod.png\")"
   ]
  },
  {
   "cell_type": "markdown",
   "id": "756a25ed",
   "metadata": {},
   "source": [
    "Adding another convolutional layer and padding in order to maintain the overall size of the matrices"
   ]
  },
  {
   "cell_type": "code",
   "execution_count": 10,
   "id": "34e363cd",
   "metadata": {},
   "outputs": [],
   "source": [
    "padding_mod = models.Sequential()\n",
    "padding_mod.add(layers.Conv2D(32, (3, 3), activation='relu', input_shape=(28, 28, 1), padding = \"same\"))\n",
    "padding_mod.add(layers.MaxPooling2D((2, 2)))\n",
    "padding_mod.add(layers.Conv2D(32, (3, 3), activation='relu',padding = \"same\"))\n",
    "padding_mod.add(layers.MaxPooling2D((2, 2)))\n",
    "padding_mod.add(layers.Conv2D(32, (3, 3), activation='relu', padding = \"same\"))\n",
    "padding_mod.add(layers.Flatten())\n",
    "padding_mod.add(layers.Dense(32, activation='relu'))\n",
    "padding_mod.add(layers.Dense(25))"
   ]
  },
  {
   "cell_type": "code",
   "execution_count": 11,
   "id": "410aa244",
   "metadata": {
    "scrolled": true
   },
   "outputs": [
    {
     "name": "stdout",
     "output_type": "stream",
     "text": [
      "Model: \"sequential_1\"\n",
      "_________________________________________________________________\n",
      " Layer (type)                Output Shape              Param #   \n",
      "=================================================================\n",
      " conv2d_2 (Conv2D)           (None, 28, 28, 32)        320       \n",
      "                                                                 \n",
      " max_pooling2d_1 (MaxPooling  (None, 14, 14, 32)       0         \n",
      " 2D)                                                             \n",
      "                                                                 \n",
      " conv2d_3 (Conv2D)           (None, 14, 14, 32)        9248      \n",
      "                                                                 \n",
      " max_pooling2d_2 (MaxPooling  (None, 7, 7, 32)         0         \n",
      " 2D)                                                             \n",
      "                                                                 \n",
      " conv2d_4 (Conv2D)           (None, 7, 7, 32)          9248      \n",
      "                                                                 \n",
      " flatten_1 (Flatten)         (None, 1568)              0         \n",
      "                                                                 \n",
      " dense_2 (Dense)             (None, 32)                50208     \n",
      "                                                                 \n",
      " dense_3 (Dense)             (None, 25)                825       \n",
      "                                                                 \n",
      "=================================================================\n",
      "Total params: 69,849\n",
      "Trainable params: 69,849\n",
      "Non-trainable params: 0\n",
      "_________________________________________________________________\n"
     ]
    }
   ],
   "source": [
    "padding_mod.summary()"
   ]
  },
  {
   "cell_type": "code",
   "execution_count": 12,
   "id": "d13d249b",
   "metadata": {
    "scrolled": true
   },
   "outputs": [
    {
     "name": "stdout",
     "output_type": "stream",
     "text": [
      "Epoch 1/10\n",
      "2746/2746 [==============================] - 17s 6ms/step - loss: 0.9255 - accuracy: 0.7081 - val_loss: 0.5683 - val_accuracy: 0.8509\n",
      "Epoch 2/10\n",
      "2746/2746 [==============================] - 17s 6ms/step - loss: 0.0667 - accuracy: 0.9805 - val_loss: 0.6402 - val_accuracy: 0.8724\n",
      "Epoch 3/10\n",
      "2746/2746 [==============================] - 16s 6ms/step - loss: 0.0309 - accuracy: 0.9908 - val_loss: 0.7596 - val_accuracy: 0.8351\n",
      "Epoch 4/10\n",
      "2746/2746 [==============================] - 15s 6ms/step - loss: 0.0151 - accuracy: 0.9954 - val_loss: 0.8584 - val_accuracy: 0.8537\n",
      "Epoch 5/10\n",
      "2746/2746 [==============================] - 15s 6ms/step - loss: 0.0163 - accuracy: 0.9949 - val_loss: 0.5630 - val_accuracy: 0.9120\n",
      "Epoch 6/10\n",
      "2746/2746 [==============================] - 15s 5ms/step - loss: 1.8494e-04 - accuracy: 1.0000 - val_loss: 0.5772 - val_accuracy: 0.9194\n",
      "Epoch 7/10\n",
      "2746/2746 [==============================] - 15s 5ms/step - loss: 0.0146 - accuracy: 0.9953 - val_loss: 0.5319 - val_accuracy: 0.9041\n",
      "Epoch 8/10\n",
      "2746/2746 [==============================] - 17s 6ms/step - loss: 0.0149 - accuracy: 0.9952 - val_loss: 0.5661 - val_accuracy: 0.9056\n",
      "Epoch 9/10\n",
      "2746/2746 [==============================] - 15s 6ms/step - loss: 3.8902e-04 - accuracy: 1.0000 - val_loss: 0.5492 - val_accuracy: 0.9239\n",
      "Epoch 10/10\n",
      "2746/2746 [==============================] - 15s 5ms/step - loss: 3.0716e-05 - accuracy: 1.0000 - val_loss: 0.6142 - val_accuracy: 0.9258\n"
     ]
    }
   ],
   "source": [
    "padding_mod.compile(optimizer='adam',\n",
    "            loss=tf.keras.losses.SparseCategoricalCrossentropy(from_logits=True),\n",
    "              metrics=['accuracy'])\n",
    "\n",
    "padding_history = padding_mod.fit(train_images, train_labels, \n",
    "          validation_data = (test_images, test_labels), \n",
    "          epochs= 10, batch_size= 10)"
   ]
  },
  {
   "cell_type": "code",
   "execution_count": 43,
   "id": "4ad87636",
   "metadata": {
    "scrolled": true
   },
   "outputs": [
    {
     "name": "stdout",
     "output_type": "stream",
     "text": [
      "225/225 - 1s - loss: 0.6142 - accuracy: 0.9258 - 847ms/epoch - 4ms/step\n"
     ]
    },
    {
     "data": {
      "image/png": "[encoded data removed]",
      "text/plain": [
       "<Figure size 432x288 with 1 Axes>"
      ]
     },
     "metadata": {
      "needs_background": "light"
     },
     "output_type": "display_data"
    }
   ],
   "source": [
    "plt.plot(padding_history.history['accuracy'], label='train_accuracy')\n",
    "plt.plot(padding_history.history['val_accuracy'], label = 'val_accuracy')\n",
    "plt.xlabel('Epoch')\n",
    "plt.ylabel('Accuracy')\n",
    "plt.ylim([0.5, 1])\n",
    "plt.legend(loc='lower right')\n",
    "plt.title('Second Model(added padding) Accuracy v. Epoch')\n",
    "test_loss, test_acc = padding_mod.evaluate(test_images,  test_labels, verbose=2)\n",
    "plt.savefig(\"padding_mod.png\")"
   ]
  },
  {
   "cell_type": "markdown",
   "id": "bd2850ee",
   "metadata": {},
   "source": [
    "Adding additional Convolutional Layer and dropout as a method of regularization"
   ]
  },
  {
   "cell_type": "code",
   "execution_count": 14,
   "id": "55e47588",
   "metadata": {},
   "outputs": [],
   "source": [
    "dropout_mod = models.Sequential()\n",
    "dropout_mod.add(layers.Conv2D(32, (3, 3), activation='relu', input_shape=(28, 28, 1)))\n",
    "dropout_mod.add(layers.MaxPooling2D((2, 2),padding = 'same'))\n",
    "dropout_mod.add(Dropout(0.2))\n",
    "dropout_mod.add(layers.Conv2D(32, (3, 3), activation='relu'))\n",
    "dropout_mod.add(layers.MaxPooling2D((2, 2),padding = 'same'))\n",
    "dropout_mod.add(Dropout(0.2))\n",
    "dropout_mod.add(layers.Conv2D(32, (3, 3), activation='relu'))\n",
    "dropout_mod.add(layers.MaxPooling2D((2, 2),padding = 'same'))\n",
    "dropout_mod.add(Dropout(0.2))\n",
    "dropout_mod.add(layers.Conv2D(64, (2, 2), activation='relu'))\n",
    "dropout_mod.add(layers.MaxPooling2D((2, 2),padding = 'same'))\n",
    "dropout_mod.add(Dropout(0.2))\n",
    "dropout_mod.add(layers.Flatten())\n",
    "dropout_mod.add(layers.Dense(64, activation='relu'))\n",
    "dropout_mod.add(layers.Dense(25))"
   ]
  },
  {
   "cell_type": "code",
   "execution_count": 15,
   "id": "30fbea36",
   "metadata": {
    "scrolled": true
   },
   "outputs": [
    {
     "name": "stdout",
     "output_type": "stream",
     "text": [
      "Model: \"sequential_2\"\n",
      "_________________________________________________________________\n",
      " Layer (type)                Output Shape              Param #   \n",
      "=================================================================\n",
      " conv2d_5 (Conv2D)           (None, 26, 26, 32)        320       \n",
      "                                                                 \n",
      " max_pooling2d_3 (MaxPooling  (None, 13, 13, 32)       0         \n",
      " 2D)                                                             \n",
      "                                                                 \n",
      " dropout (Dropout)           (None, 13, 13, 32)        0         \n",
      "                                                                 \n",
      " conv2d_6 (Conv2D)           (None, 11, 11, 32)        9248      \n",
      "                                                                 \n",
      " max_pooling2d_4 (MaxPooling  (None, 6, 6, 32)         0         \n",
      " 2D)                                                             \n",
      "                                                                 \n",
      " dropout_1 (Dropout)         (None, 6, 6, 32)          0         \n",
      "                                                                 \n",
      " conv2d_7 (Conv2D)           (None, 4, 4, 32)          9248      \n",
      "                                                                 \n",
      " max_pooling2d_5 (MaxPooling  (None, 2, 2, 32)         0         \n",
      " 2D)                                                             \n",
      "                                                                 \n",
      " dropout_2 (Dropout)         (None, 2, 2, 32)          0         \n",
      "                                                                 \n",
      " conv2d_8 (Conv2D)           (None, 1, 1, 64)          8256      \n",
      "                                                                 \n",
      " max_pooling2d_6 (MaxPooling  (None, 1, 1, 64)         0         \n",
      " 2D)                                                             \n",
      "                                                                 \n",
      " dropout_3 (Dropout)         (None, 1, 1, 64)          0         \n",
      "                                                                 \n",
      " flatten_2 (Flatten)         (None, 64)                0         \n",
      "                                                                 \n",
      " dense_4 (Dense)             (None, 64)                4160      \n",
      "                                                                 \n",
      " dense_5 (Dense)             (None, 25)                1625      \n",
      "                                                                 \n",
      "=================================================================\n",
      "Total params: 32,857\n",
      "Trainable params: 32,857\n",
      "Non-trainable params: 0\n",
      "_________________________________________________________________\n"
     ]
    }
   ],
   "source": [
    "dropout_mod.summary()"
   ]
  },
  {
   "cell_type": "code",
   "execution_count": 16,
   "id": "2bb2bfeb",
   "metadata": {
    "scrolled": true
   },
   "outputs": [
    {
     "name": "stdout",
     "output_type": "stream",
     "text": [
      "Epoch 1/10\n",
      "2746/2746 [==============================] - 16s 6ms/step - loss: 1.7900 - accuracy: 0.4218 - val_loss: 0.6023 - val_accuracy: 0.7914\n",
      "Epoch 2/10\n",
      "2746/2746 [==============================] - 15s 6ms/step - loss: 0.6377 - accuracy: 0.7720 - val_loss: 0.3372 - val_accuracy: 0.8954\n",
      "Epoch 3/10\n",
      "2746/2746 [==============================] - 15s 5ms/step - loss: 0.3937 - accuracy: 0.8630 - val_loss: 0.2325 - val_accuracy: 0.9324\n",
      "Epoch 4/10\n",
      "2746/2746 [==============================] - 17s 6ms/step - loss: 0.2939 - accuracy: 0.8985 - val_loss: 0.2218 - val_accuracy: 0.9328\n",
      "Epoch 5/10\n",
      "2746/2746 [==============================] - 16s 6ms/step - loss: 0.2454 - accuracy: 0.9162 - val_loss: 0.1514 - val_accuracy: 0.9596\n",
      "Epoch 6/10\n",
      "2746/2746 [==============================] - 17s 6ms/step - loss: 0.2026 - accuracy: 0.9321 - val_loss: 0.1652 - val_accuracy: 0.9395\n",
      "Epoch 7/10\n",
      "2746/2746 [==============================] - 17s 6ms/step - loss: 0.1855 - accuracy: 0.9373 - val_loss: 0.1548 - val_accuracy: 0.9519\n",
      "Epoch 8/10\n",
      "2746/2746 [==============================] - 15s 6ms/step - loss: 0.1794 - accuracy: 0.9405 - val_loss: 0.1613 - val_accuracy: 0.9534\n",
      "Epoch 9/10\n",
      "2746/2746 [==============================] - 15s 5ms/step - loss: 0.1502 - accuracy: 0.9499 - val_loss: 0.1280 - val_accuracy: 0.9618\n",
      "Epoch 10/10\n",
      "2746/2746 [==============================] - 15s 5ms/step - loss: 0.1559 - accuracy: 0.9492 - val_loss: 0.1242 - val_accuracy: 0.9605\n"
     ]
    }
   ],
   "source": [
    "dropout_mod.compile(optimizer='adam',\n",
    "              loss=tf.keras.losses.SparseCategoricalCrossentropy(from_logits=True),\n",
    "              metrics=['accuracy'])\n",
    "\n",
    "dropout_history = dropout_mod.fit(train_images, train_labels, \n",
    "          validation_data = (test_images, test_labels), \n",
    "          epochs= 10, batch_size= 10)"
   ]
  },
  {
   "cell_type": "code",
   "execution_count": 17,
   "id": "b77c9ed5",
   "metadata": {
    "scrolled": true
   },
   "outputs": [
    {
     "name": "stdout",
     "output_type": "stream",
     "text": [
      "225/225 - 1s - loss: 0.1242 - accuracy: 0.9605 - 725ms/epoch - 3ms/step\n"
     ]
    },
    {
     "data": {
      "image/png": "[encoded data removed]",
      "text/plain": [
       "<Figure size 432x288 with 1 Axes>"
      ]
     },
     "metadata": {
      "needs_background": "light"
     },
     "output_type": "display_data"
    }
   ],
   "source": [
    "plt.plot(dropout_history.history['accuracy'], label='accuracy')\n",
    "plt.plot(dropout_history.history['val_accuracy'], label = 'val_accuracy')\n",
    "plt.xlabel('Epoch')\n",
    "plt.ylabel('Accuracy')\n",
    "plt.ylim([0.5, 1])\n",
    "plt.legend(loc='lower right')\n",
    "plt.title('Dropout Model Accuracy v. Epoch')\n",
    "test_loss, test_acc = dropout_mod.evaluate(test_images,  test_labels, verbose=2)\n",
    "plt.savefig(\"dropout_mod.png\")"
   ]
  },
  {
   "cell_type": "code",
   "execution_count": 19,
   "id": "cf0f5bc5",
   "metadata": {},
   "outputs": [],
   "source": [
    "sig_mod = models.Sequential()\n",
    "sig_mod.add(layers.Conv2D(32, (3, 3), activation='sigmoid', input_shape=(28, 28, 1)))\n",
    "sig_mod.add(layers.MaxPooling2D((2, 2),padding = 'same'))\n",
    "sig_mod.add(Dropout(0.2))\n",
    "sig_mod.add(layers.Conv2D(32, (3, 3), activation='sigmoid'))\n",
    "sig_mod.add(layers.MaxPooling2D((2, 2),padding = 'same'))\n",
    "sig_mod.add(Dropout(0.2))\n",
    "sig_mod.add(layers.Conv2D(32, (3, 3), activation='sigmoid'))\n",
    "sig_mod.add(layers.MaxPooling2D((2, 2),padding = 'same'))\n",
    "sig_mod.add(Dropout(0.2))\n",
    "sig_mod.add(layers.Conv2D(64, (2, 2), activation='sigmoid'))\n",
    "sig_mod.add(layers.MaxPooling2D((2, 2),padding = 'same'))\n",
    "sig_mod.add(Dropout(0.2))\n",
    "sig_mod.add(layers.Flatten())\n",
    "sig_mod.add(layers.Dense(64, activation='sigmoid'))\n",
    "sig_mod.add(layers.Dense(25))"
   ]
  },
  {
   "cell_type": "code",
   "execution_count": 20,
   "id": "df2e78fd",
   "metadata": {
    "scrolled": true
   },
   "outputs": [
    {
     "name": "stdout",
     "output_type": "stream",
     "text": [
      "Model: \"sequential_3\"\n",
      "_________________________________________________________________\n",
      " Layer (type)                Output Shape              Param #   \n",
      "=================================================================\n",
      " conv2d_9 (Conv2D)           (None, 26, 26, 32)        320       \n",
      "                                                                 \n",
      " max_pooling2d_7 (MaxPooling  (None, 13, 13, 32)       0         \n",
      " 2D)                                                             \n",
      "                                                                 \n",
      " dropout_4 (Dropout)         (None, 13, 13, 32)        0         \n",
      "                                                                 \n",
      " conv2d_10 (Conv2D)          (None, 11, 11, 32)        9248      \n",
      "                                                                 \n",
      " max_pooling2d_8 (MaxPooling  (None, 6, 6, 32)         0         \n",
      " 2D)                                                             \n",
      "                                                                 \n",
      " dropout_5 (Dropout)         (None, 6, 6, 32)          0         \n",
      "                                                                 \n",
      " conv2d_11 (Conv2D)          (None, 4, 4, 32)          9248      \n",
      "                                                                 \n",
      " max_pooling2d_9 (MaxPooling  (None, 2, 2, 32)         0         \n",
      " 2D)                                                             \n",
      "                                                                 \n",
      " dropout_6 (Dropout)         (None, 2, 2, 32)          0         \n",
      "                                                                 \n",
      " conv2d_12 (Conv2D)          (None, 1, 1, 64)          8256      \n",
      "                                                                 \n",
      " max_pooling2d_10 (MaxPoolin  (None, 1, 1, 64)         0         \n",
      " g2D)                                                            \n",
      "                                                                 \n",
      " dropout_7 (Dropout)         (None, 1, 1, 64)          0         \n",
      "                                                                 \n",
      " flatten_3 (Flatten)         (None, 64)                0         \n",
      "                                                                 \n",
      " dense_6 (Dense)             (None, 64)                4160      \n",
      "                                                                 \n",
      " dense_7 (Dense)             (None, 25)                1625      \n",
      "                                                                 \n",
      "=================================================================\n",
      "Total params: 32,857\n",
      "Trainable params: 32,857\n",
      "Non-trainable params: 0\n",
      "_________________________________________________________________\n"
     ]
    }
   ],
   "source": [
    "sig_mod.summary()"
   ]
  },
  {
   "cell_type": "code",
   "execution_count": 21,
   "id": "1aad8c02",
   "metadata": {},
   "outputs": [
    {
     "name": "stdout",
     "output_type": "stream",
     "text": [
      "Epoch 1/10\n",
      "2746/2746 [==============================] - 16s 6ms/step - loss: 3.1910 - accuracy: 0.0424 - val_loss: 3.2112 - val_accuracy: 0.0201\n",
      "Epoch 2/10\n",
      "2746/2746 [==============================] - 16s 6ms/step - loss: 3.1109 - accuracy: 0.0683 - val_loss: 2.6215 - val_accuracy: 0.1514\n",
      "Epoch 3/10\n",
      "2746/2746 [==============================] - 16s 6ms/step - loss: 2.1797 - accuracy: 0.2872 - val_loss: 1.8122 - val_accuracy: 0.4138\n",
      "Epoch 4/10\n",
      "2746/2746 [==============================] - 16s 6ms/step - loss: 1.6984 - accuracy: 0.4332 - val_loss: 1.4349 - val_accuracy: 0.5059\n",
      "Epoch 5/10\n",
      "2746/2746 [==============================] - 16s 6ms/step - loss: 1.3741 - accuracy: 0.5344 - val_loss: 1.1813 - val_accuracy: 0.5767\n",
      "Epoch 6/10\n",
      "2746/2746 [==============================] - 16s 6ms/step - loss: 1.1342 - accuracy: 0.6098 - val_loss: 0.8819 - val_accuracy: 0.7068\n",
      "Epoch 7/10\n",
      "2746/2746 [==============================] - 16s 6ms/step - loss: 0.9476 - accuracy: 0.6713 - val_loss: 0.7271 - val_accuracy: 0.7465\n",
      "Epoch 8/10\n",
      "2746/2746 [==============================] - 16s 6ms/step - loss: 0.8074 - accuracy: 0.7145 - val_loss: 0.5928 - val_accuracy: 0.7932\n",
      "Epoch 9/10\n",
      "2746/2746 [==============================] - 16s 6ms/step - loss: 0.6900 - accuracy: 0.7581 - val_loss: 0.5742 - val_accuracy: 0.7917\n",
      "Epoch 10/10\n",
      "2746/2746 [==============================] - 16s 6ms/step - loss: 0.5976 - accuracy: 0.7877 - val_loss: 0.4440 - val_accuracy: 0.8509\n"
     ]
    }
   ],
   "source": [
    "sig_mod.compile(optimizer='adam',\n",
    "              loss=tf.keras.losses.SparseCategoricalCrossentropy(from_logits=True),\n",
    "              metrics=['accuracy'])\n",
    "\n",
    "sig_history = sig_mod.fit(train_images, train_labels, \n",
    "          validation_data = (test_images, test_labels), \n",
    "          epochs= 10, batch_size= 10)"
   ]
  },
  {
   "cell_type": "code",
   "execution_count": 22,
   "id": "2c999f39",
   "metadata": {},
   "outputs": [
    {
     "name": "stdout",
     "output_type": "stream",
     "text": [
      "225/225 - 1s - loss: 0.4440 - accuracy: 0.8509 - 761ms/epoch - 3ms/step\n"
     ]
    },
    {
     "data": {
      "image/png": "[encoded data removed]",
      "text/plain": [
       "<Figure size 432x288 with 1 Axes>"
      ]
     },
     "metadata": {
      "needs_background": "light"
     },
     "output_type": "display_data"
    }
   ],
   "source": [
    "plt.plot(sig_history.history['accuracy'], label='accuracy')\n",
    "plt.plot(sig_history.history['val_accuracy'], label = 'val_accuracy')\n",
    "plt.xlabel('Epoch')\n",
    "plt.ylabel('Accuracy')\n",
    "plt.ylim([0, 1])\n",
    "plt.legend(loc='lower right')\n",
    "plt.title('Sigmoid Model Accuracy v. Epoch')\n",
    "test_loss, test_acc = sig_mod.evaluate(test_images,  test_labels, verbose=2)\n",
    "plt.savefig(\"sig_mod.png\")"
   ]
  },
  {
   "cell_type": "markdown",
   "id": "9b7b2a4e",
   "metadata": {},
   "source": [
    "Data Augmentation - Rotating images and making other small adjustments to increase the size of the training set"
   ]
  },
  {
   "cell_type": "code",
   "execution_count": 23,
   "id": "555640e3",
   "metadata": {},
   "outputs": [],
   "source": [
    "from keras.preprocessing.image import ImageDataGenerator"
   ]
  },
  {
   "cell_type": "code",
   "execution_count": 24,
   "id": "c9356a6f",
   "metadata": {},
   "outputs": [],
   "source": [
    "data_augment = ImageDataGenerator(rotation_range=10, width_shift_range=0.1, height_shift_range=0.1, horizontal_flip=False, vertical_flip=False) \n",
    "data_augment.fit(train_images)"
   ]
  },
  {
   "cell_type": "code",
   "execution_count": 25,
   "id": "04172fe2",
   "metadata": {},
   "outputs": [],
   "source": [
    "dataAug_mod = models.Sequential()\n",
    "dataAug_mod.add(layers.Conv2D(32, (3, 3), input_shape=(28, 28, 1),activation='relu',padding = 'same'))\n",
    "dataAug_mod.add(layers.MaxPooling2D((2, 2)))\n",
    "dataAug_mod.add(Dropout(0.2))\n",
    "dataAug_mod.add(layers.Conv2D(32, (3, 3), activation='relu',padding = 'same'))\n",
    "dataAug_mod.add(layers.MaxPooling2D((2, 2)))\n",
    "dataAug_mod.add(Dropout(0.2))\n",
    "dataAug_mod.add(layers.Conv2D(64, (3, 3), activation='relu',padding = 'same'))\n",
    "dataAug_mod.add(layers.MaxPooling2D((2, 2)))\n",
    "dataAug_mod.add(Dropout(0.2))\n",
    "dataAug_mod.add(layers.Conv2D(64, (2, 2), activation='relu',padding = 'same'))\n",
    "dataAug_mod.add(layers.MaxPooling2D((2, 2)))\n",
    "dataAug_mod.add(Dropout(0.2))\n",
    "dataAug_mod.add(layers.Flatten())\n",
    "dataAug_mod.add(layers.Dense(64, activation='relu'))\n",
    "dataAug_mod.add(layers.Dense(25))"
   ]
  },
  {
   "cell_type": "code",
   "execution_count": 26,
   "id": "87e140aa",
   "metadata": {
    "scrolled": true
   },
   "outputs": [
    {
     "name": "stdout",
     "output_type": "stream",
     "text": [
      "Model: \"sequential_4\"\n",
      "_________________________________________________________________\n",
      " Layer (type)                Output Shape              Param #   \n",
      "=================================================================\n",
      " conv2d_13 (Conv2D)          (None, 28, 28, 32)        320       \n",
      "                                                                 \n",
      " max_pooling2d_11 (MaxPoolin  (None, 14, 14, 32)       0         \n",
      " g2D)                                                            \n",
      "                                                                 \n",
      " dropout_8 (Dropout)         (None, 14, 14, 32)        0         \n",
      "                                                                 \n",
      " conv2d_14 (Conv2D)          (None, 14, 14, 32)        9248      \n",
      "                                                                 \n",
      " max_pooling2d_12 (MaxPoolin  (None, 7, 7, 32)         0         \n",
      " g2D)                                                            \n",
      "                                                                 \n",
      " dropout_9 (Dropout)         (None, 7, 7, 32)          0         \n",
      "                                                                 \n",
      " conv2d_15 (Conv2D)          (None, 7, 7, 64)          18496     \n",
      "                                                                 \n",
      " max_pooling2d_13 (MaxPoolin  (None, 3, 3, 64)         0         \n",
      " g2D)                                                            \n",
      "                                                                 \n",
      " dropout_10 (Dropout)        (None, 3, 3, 64)          0         \n",
      "                                                                 \n",
      " conv2d_16 (Conv2D)          (None, 3, 3, 64)          16448     \n",
      "                                                                 \n",
      " max_pooling2d_14 (MaxPoolin  (None, 1, 1, 64)         0         \n",
      " g2D)                                                            \n",
      "                                                                 \n",
      " dropout_11 (Dropout)        (None, 1, 1, 64)          0         \n",
      "                                                                 \n",
      " flatten_4 (Flatten)         (None, 64)                0         \n",
      "                                                                 \n",
      " dense_8 (Dense)             (None, 64)                4160      \n",
      "                                                                 \n",
      " dense_9 (Dense)             (None, 25)                1625      \n",
      "                                                                 \n",
      "=================================================================\n",
      "Total params: 50,297\n",
      "Trainable params: 50,297\n",
      "Non-trainable params: 0\n",
      "_________________________________________________________________\n"
     ]
    }
   ],
   "source": [
    "dataAug_mod.summary()"
   ]
  },
  {
   "cell_type": "code",
   "execution_count": 27,
   "id": "448d8119",
   "metadata": {},
   "outputs": [
    {
     "name": "stdout",
     "output_type": "stream",
     "text": [
      "Epoch 1/10\n",
      "2746/2746 [==============================] - 21s 8ms/step - loss: 2.0066 - accuracy: 0.3621 - val_loss: 0.6475 - val_accuracy: 0.7994\n",
      "Epoch 2/10\n",
      "2746/2746 [==============================] - 20s 7ms/step - loss: 0.5831 - accuracy: 0.7903 - val_loss: 0.3789 - val_accuracy: 0.8737\n",
      "Epoch 3/10\n",
      "2746/2746 [==============================] - 20s 7ms/step - loss: 0.3518 - accuracy: 0.8769 - val_loss: 0.2299 - val_accuracy: 0.9308\n",
      "Epoch 4/10\n",
      "2746/2746 [==============================] - 20s 7ms/step - loss: 0.2511 - accuracy: 0.9142 - val_loss: 0.1834 - val_accuracy: 0.9419\n",
      "Epoch 5/10\n",
      "2746/2746 [==============================] - 20s 7ms/step - loss: 0.1915 - accuracy: 0.9347 - val_loss: 0.1390 - val_accuracy: 0.9619\n",
      "Epoch 6/10\n",
      "2746/2746 [==============================] - 20s 7ms/step - loss: 0.1666 - accuracy: 0.9441 - val_loss: 0.1454 - val_accuracy: 0.9561\n",
      "Epoch 7/10\n",
      "2746/2746 [==============================] - 20s 7ms/step - loss: 0.1386 - accuracy: 0.9537 - val_loss: 0.1371 - val_accuracy: 0.9656\n",
      "Epoch 8/10\n",
      "2746/2746 [==============================] - 20s 7ms/step - loss: 0.1256 - accuracy: 0.9580 - val_loss: 0.1341 - val_accuracy: 0.9658\n",
      "Epoch 9/10\n",
      "2746/2746 [==============================] - 20s 7ms/step - loss: 0.1223 - accuracy: 0.9596 - val_loss: 0.1595 - val_accuracy: 0.9477\n",
      "Epoch 10/10\n",
      "2746/2746 [==============================] - 20s 7ms/step - loss: 0.1084 - accuracy: 0.9664 - val_loss: 0.1425 - val_accuracy: 0.9685\n"
     ]
    }
   ],
   "source": [
    "dataAug_mod.compile(optimizer='adam',\n",
    "              loss=tf.keras.losses.SparseCategoricalCrossentropy(from_logits=True),\n",
    "              metrics=['accuracy'])\n",
    "\n",
    "dataAug_history = dataAug_mod.fit(train_images, train_labels, \n",
    "          validation_data = (test_images, test_labels), \n",
    "          epochs= 10, batch_size= 10)"
   ]
  },
  {
   "cell_type": "code",
   "execution_count": 28,
   "id": "9e6c60cb",
   "metadata": {},
   "outputs": [
    {
     "name": "stdout",
     "output_type": "stream",
     "text": [
      "225/225 - 1s - loss: 0.1425 - accuracy: 0.9685 - 1s/epoch - 5ms/step\n"
     ]
    },
    {
     "data": {
      "image/png": "[encoded data removed]",
      "text/plain": [
       "<Figure size 432x288 with 1 Axes>"
      ]
     },
     "metadata": {
      "needs_background": "light"
     },
     "output_type": "display_data"
    }
   ],
   "source": [
    "plt.plot(dataAug_history.history['accuracy'], label='accuracy')\n",
    "plt.plot(dataAug_history.history['val_accuracy'], label = 'val_accuracy')\n",
    "plt.xlabel('Epoch')\n",
    "plt.ylabel('Accuracy')\n",
    "plt.ylim([0.5, 1])\n",
    "plt.legend(loc='lower right')\n",
    "plt.title(\"Data Augment Model accuracy v. Epoch\")\n",
    "test_loss, test_acc = dataAug_mod.evaluate(test_images,  test_labels, verbose=2)\n",
    "plt.savefig(\"dataAug_mod.png\")"
   ]
  },
  {
   "cell_type": "code",
   "execution_count": 29,
   "id": "f5d64843",
   "metadata": {},
   "outputs": [],
   "source": [
    "from keras import regularizers"
   ]
  },
  {
   "cell_type": "code",
   "execution_count": 30,
   "id": "22bd1c9b",
   "metadata": {},
   "outputs": [],
   "source": [
    "l1_mod = models.Sequential()\n",
    "l1_mod.add(layers.Conv2D(32, (3, 3), input_shape=(28, 28, 1),activation='relu', kernel_regularizer=regularizers.l1(0.01),padding = 'same'))\n",
    "l1_mod.add(layers.MaxPooling2D((2, 2)))\n",
    "l1_mod.add(layers.Conv2D(32, (3, 3), activation='relu',kernel_regularizer=regularizers.l1(0.01),padding = 'same'))\n",
    "l1_mod.add(layers.MaxPooling2D((2, 2)))\n",
    "l1_mod.add(layers.Conv2D(64, (3, 3), activation='relu',kernel_regularizer=regularizers.l1(0.01),padding = 'same'))\n",
    "l1_mod.add(layers.MaxPooling2D((2, 2)))\n",
    "l1_mod.add(layers.Conv2D(64, (2, 2), activation='relu',kernel_regularizer=regularizers.l1(0.01),padding = 'same'))\n",
    "l1_mod.add(layers.MaxPooling2D((2, 2)))\n",
    "l1_mod.add(layers.Flatten())\n",
    "l1_mod.add(layers.Dense(64, activation='relu',kernel_regularizer=regularizers.l1(0.01)))\n",
    "l1_mod.add(layers.Dense(25))"
   ]
  },
  {
   "cell_type": "code",
   "execution_count": 31,
   "id": "586cd5fb",
   "metadata": {
    "scrolled": true
   },
   "outputs": [
    {
     "name": "stdout",
     "output_type": "stream",
     "text": [
      "Epoch 1/10\n",
      "2746/2746 [==============================] - 17s 6ms/step - loss: 3.2192 - accuracy: 0.0444 - val_loss: 3.2005 - val_accuracy: 0.0229\n",
      "Epoch 2/10\n",
      "2746/2746 [==============================] - 16s 6ms/step - loss: 3.1777 - accuracy: 0.0445 - val_loss: 3.2037 - val_accuracy: 0.0201\n",
      "Epoch 3/10\n",
      "2746/2746 [==============================] - 16s 6ms/step - loss: 3.1770 - accuracy: 0.0440 - val_loss: 3.2013 - val_accuracy: 0.0229\n",
      "Epoch 4/10\n",
      "2746/2746 [==============================] - 16s 6ms/step - loss: 3.1766 - accuracy: 0.0463 - val_loss: 3.1981 - val_accuracy: 0.0201\n",
      "Epoch 5/10\n",
      "2746/2746 [==============================] - 17s 6ms/step - loss: 3.1767 - accuracy: 0.0459 - val_loss: 3.1993 - val_accuracy: 0.0201\n",
      "Epoch 6/10\n",
      "2746/2746 [==============================] - 16s 6ms/step - loss: 3.1764 - accuracy: 0.0478 - val_loss: 3.2001 - val_accuracy: 0.0229\n",
      "Epoch 7/10\n",
      "2746/2746 [==============================] - 17s 6ms/step - loss: 3.1763 - accuracy: 0.0437 - val_loss: 3.1954 - val_accuracy: 0.0229\n",
      "Epoch 8/10\n",
      "2746/2746 [==============================] - 17s 6ms/step - loss: 3.1762 - accuracy: 0.0455 - val_loss: 3.1987 - val_accuracy: 0.0201\n",
      "Epoch 9/10\n",
      "2746/2746 [==============================] - 21s 8ms/step - loss: 3.1761 - accuracy: 0.0461 - val_loss: 3.1998 - val_accuracy: 0.0201\n",
      "Epoch 10/10\n",
      "2746/2746 [==============================] - 18s 7ms/step - loss: 3.1761 - accuracy: 0.0466 - val_loss: 3.2001 - val_accuracy: 0.0229\n"
     ]
    }
   ],
   "source": [
    "l1_mod.compile(optimizer='adam',\n",
    "              loss=tf.keras.losses.SparseCategoricalCrossentropy(from_logits=True),\n",
    "              metrics=['accuracy'])\n",
    "\n",
    "l1_history = l1_mod.fit(train_images, train_labels, \n",
    "          validation_data = (test_images, test_labels), \n",
    "          epochs= 10, batch_size= 10)"
   ]
  },
  {
   "cell_type": "code",
   "execution_count": 32,
   "id": "b7979a2d",
   "metadata": {},
   "outputs": [
    {
     "name": "stdout",
     "output_type": "stream",
     "text": [
      "225/225 - 1s - loss: 3.2001 - accuracy: 0.0229 - 1s/epoch - 5ms/step\n"
     ]
    },
    {
     "data": {
      "image/png": "[encoded data removed]",
      "text/plain": [
       "<Figure size 432x288 with 1 Axes>"
      ]
     },
     "metadata": {
      "needs_background": "light"
     },
     "output_type": "display_data"
    }
   ],
   "source": [
    "plt.plot(l1_history.history['accuracy'], label='accuracy')\n",
    "plt.plot(l1_history.history['val_accuracy'], label = 'val_accuracy')\n",
    "plt.xlabel('Epoch')\n",
    "plt.ylabel('Accuracy')\n",
    "plt.ylim([0, 1])\n",
    "plt.legend(loc='lower right')\n",
    "plt.title(\"L1 Model Accuracy v. Epoch\")\n",
    "test_loss, test_acc = l1_mod.evaluate(test_images,  test_labels, verbose=2)\n",
    "plt.savefig(\"l1_mod.png\")"
   ]
  },
  {
   "cell_type": "code",
   "execution_count": 33,
   "id": "715619ba",
   "metadata": {},
   "outputs": [],
   "source": [
    "l1_v2_mod = models.Sequential()\n",
    "l1_v2_mod.add(layers.Conv2D(32, (3, 3), input_shape=(28, 28, 1),activation='relu', padding = 'same'))\n",
    "l1_v2_mod.add(layers.MaxPooling2D((2, 2)))\n",
    "l1_v2_mod.add(layers.Conv2D(32, (3, 3), activation='relu',padding = 'same'))\n",
    "l1_v2_mod.add(layers.MaxPooling2D((2, 2)))\n",
    "l1_v2_mod.add(layers.Conv2D(64, (3, 3), activation='relu',padding = 'same'))\n",
    "l1_v2_mod.add(layers.MaxPooling2D((2, 2)))\n",
    "l1_v2_mod.add(layers.Conv2D(64, (2, 2), activation='relu',padding = 'same'))\n",
    "l1_v2_mod.add(layers.MaxPooling2D((2, 2)))\n",
    "l1_v2_mod.add(layers.Flatten())\n",
    "l1_v2_mod.add(layers.Dense(64, activation='relu',kernel_regularizer=regularizers.l1(0.01)))\n",
    "l1_v2_mod.add(layers.Dense(25))"
   ]
  },
  {
   "cell_type": "code",
   "execution_count": 34,
   "id": "da4412a6",
   "metadata": {
    "scrolled": true
   },
   "outputs": [
    {
     "name": "stdout",
     "output_type": "stream",
     "text": [
      "Epoch 1/10\n",
      "2746/2746 [==============================] - 19s 7ms/step - loss: 1.1090 - accuracy: 0.6738 - val_loss: 0.5371 - val_accuracy: 0.8408\n",
      "Epoch 2/10\n",
      "2746/2746 [==============================] - 20s 7ms/step - loss: 0.1435 - accuracy: 0.9770 - val_loss: 0.3627 - val_accuracy: 0.9175\n",
      "Epoch 3/10\n",
      "2746/2746 [==============================] - 18s 7ms/step - loss: 0.0773 - accuracy: 0.9910 - val_loss: 0.3174 - val_accuracy: 0.9292\n",
      "Epoch 4/10\n",
      "2746/2746 [==============================] - 18s 7ms/step - loss: 0.0759 - accuracy: 0.9864 - val_loss: 0.3090 - val_accuracy: 0.9388\n",
      "Epoch 5/10\n",
      "2746/2746 [==============================] - 18s 6ms/step - loss: 0.0505 - accuracy: 0.9923 - val_loss: 0.3692 - val_accuracy: 0.8984\n",
      "Epoch 6/10\n",
      "2746/2746 [==============================] - 18s 7ms/step - loss: 0.0485 - accuracy: 0.9937 - val_loss: 0.2733 - val_accuracy: 0.9463\n",
      "Epoch 7/10\n",
      "2746/2746 [==============================] - 18s 7ms/step - loss: 0.0361 - accuracy: 0.9945 - val_loss: 0.4834 - val_accuracy: 0.8790\n",
      "Epoch 8/10\n",
      "2746/2746 [==============================] - 18s 7ms/step - loss: 0.0463 - accuracy: 0.9926 - val_loss: 0.4215 - val_accuracy: 0.9221\n",
      "Epoch 9/10\n",
      "2746/2746 [==============================] - 18s 6ms/step - loss: 0.0421 - accuracy: 0.9942 - val_loss: 0.3489 - val_accuracy: 0.9191\n",
      "Epoch 10/10\n",
      "2746/2746 [==============================] - 18s 7ms/step - loss: 0.0309 - accuracy: 0.9960 - val_loss: 0.2095 - val_accuracy: 0.9516\n"
     ]
    }
   ],
   "source": [
    "l1_v2_mod.compile(optimizer='adam',\n",
    "              loss=tf.keras.losses.SparseCategoricalCrossentropy(from_logits=True),\n",
    "              metrics=['accuracy'])\n",
    "\n",
    "l1_v2_history = l1_v2_mod.fit(train_images, train_labels, \n",
    "          validation_data = (test_images, test_labels), \n",
    "          epochs= 10, batch_size= 10)"
   ]
  },
  {
   "cell_type": "code",
   "execution_count": 35,
   "id": "8e13937a",
   "metadata": {},
   "outputs": [
    {
     "name": "stdout",
     "output_type": "stream",
     "text": [
      "225/225 - 1s - loss: 0.2095 - accuracy: 0.9516 - 1s/epoch - 5ms/step\n"
     ]
    },
    {
     "data": {
      "image/png": "[encoded data removed]",
      "text/plain": [
       "<Figure size 432x288 with 1 Axes>"
      ]
     },
     "metadata": {
      "needs_background": "light"
     },
     "output_type": "display_data"
    }
   ],
   "source": [
    "plt.plot(l1_v2_history.history['accuracy'], label='accuracy')\n",
    "plt.plot(l1_v2_history.history['val_accuracy'], label = 'val_accuracy')\n",
    "plt.xlabel('Epoch')\n",
    "plt.ylabel('Accuracy')\n",
    "plt.ylim([0, 1])\n",
    "plt.legend(loc='lower right')\n",
    "plt.title(\"L1(only on dense layer) Accuracy v. Epoch\")\n",
    "test_loss, test_acc = l1_v2_mod.evaluate(test_images,  test_labels, verbose=2)\n",
    "plt.savefig(\"l1_v2_mod.png\")"
   ]
  },
  {
   "cell_type": "code",
   "execution_count": 36,
   "id": "696074f8",
   "metadata": {},
   "outputs": [],
   "source": [
    "l2_mod = models.Sequential()\n",
    "l2_mod.add(layers.Conv2D(32, (3, 3), input_shape=(28, 28, 1),activation='relu', kernel_regularizer=regularizers.l2(0.05),padding = 'same'))\n",
    "l2_mod.add(layers.MaxPooling2D((2, 2)))\n",
    "l2_mod.add(layers.Conv2D(32, (3, 3), activation='relu',kernel_regularizer=regularizers.l2(0.05),padding = 'same'))\n",
    "l2_mod.add(layers.MaxPooling2D((2, 2)))\n",
    "l2_mod.add(layers.Conv2D(64, (3, 3), activation='relu',kernel_regularizer=regularizers.l2(0.05),padding = 'same'))\n",
    "l2_mod.add(layers.MaxPooling2D((2, 2)))\n",
    "l2_mod.add(layers.Conv2D(64, (2, 2), activation='relu',kernel_regularizer=regularizers.l2(0.05),padding = 'same'))\n",
    "l2_mod.add(layers.MaxPooling2D((2, 2)))\n",
    "l2_mod.add(layers.Flatten())\n",
    "l2_mod.add(layers.Dense(64, activation='relu',kernel_regularizer=regularizers.l2(0.01)))\n",
    "l2_mod.add(layers.Dense(25))"
   ]
  },
  {
   "cell_type": "code",
   "execution_count": 37,
   "id": "e75ad18a",
   "metadata": {},
   "outputs": [
    {
     "name": "stdout",
     "output_type": "stream",
     "text": [
      "Epoch 1/10\n",
      "2746/2746 [==============================] - 19s 7ms/step - loss: 3.2755 - accuracy: 0.0462 - val_loss: 3.2001 - val_accuracy: 0.0201\n",
      "Epoch 2/10\n",
      "2746/2746 [==============================] - 18s 7ms/step - loss: 3.1777 - accuracy: 0.0445 - val_loss: 3.1995 - val_accuracy: 0.0229\n",
      "Epoch 3/10\n",
      "2746/2746 [==============================] - 18s 7ms/step - loss: 3.1771 - accuracy: 0.0458 - val_loss: 3.1991 - val_accuracy: 0.0201\n",
      "Epoch 4/10\n",
      "2746/2746 [==============================] - 18s 7ms/step - loss: 3.1770 - accuracy: 0.0456 - val_loss: 3.2001 - val_accuracy: 0.0201\n",
      "Epoch 5/10\n",
      "2746/2746 [==============================] - 18s 7ms/step - loss: 3.1768 - accuracy: 0.0457 - val_loss: 3.1942 - val_accuracy: 0.0201\n",
      "Epoch 6/10\n",
      "2746/2746 [==============================] - 19s 7ms/step - loss: 3.1765 - accuracy: 0.0447 - val_loss: 3.1996 - val_accuracy: 0.0201\n",
      "Epoch 7/10\n",
      "2746/2746 [==============================] - 18s 7ms/step - loss: 3.1763 - accuracy: 0.0451 - val_loss: 3.1999 - val_accuracy: 0.0229\n",
      "Epoch 8/10\n",
      "2746/2746 [==============================] - 20s 7ms/step - loss: 3.1762 - accuracy: 0.0449 - val_loss: 3.1985 - val_accuracy: 0.0201\n",
      "Epoch 9/10\n",
      "2746/2746 [==============================] - 18s 7ms/step - loss: 3.1761 - accuracy: 0.0463 - val_loss: 3.2002 - val_accuracy: 0.0229\n",
      "Epoch 10/10\n",
      "2746/2746 [==============================] - 21s 8ms/step - loss: 3.1761 - accuracy: 0.0477 - val_loss: 3.2013 - val_accuracy: 0.0201\n"
     ]
    }
   ],
   "source": [
    "l2_mod.compile(optimizer='adam',\n",
    "              loss=tf.keras.losses.SparseCategoricalCrossentropy(from_logits=True),\n",
    "              metrics=['accuracy'])\n",
    "\n",
    "l2_history = l2_mod.fit(train_images, train_labels, \n",
    "          validation_data = (test_images, test_labels), \n",
    "          epochs= 10, batch_size= 10)"
   ]
  },
  {
   "cell_type": "code",
   "execution_count": 38,
   "id": "48888230",
   "metadata": {},
   "outputs": [
    {
     "name": "stdout",
     "output_type": "stream",
     "text": [
      "225/225 - 1s - loss: 3.2013 - accuracy: 0.0201 - 1s/epoch - 6ms/step\n"
     ]
    },
    {
     "data": {
      "image/png": "[encoded data removed]",
      "text/plain": [
       "<Figure size 432x288 with 1 Axes>"
      ]
     },
     "metadata": {
      "needs_background": "light"
     },
     "output_type": "display_data"
    }
   ],
   "source": [
    "plt.plot(l2_history.history['accuracy'], label='accuracy')\n",
    "plt.plot(l2_history.history['val_accuracy'], label = 'val_accuracy')\n",
    "plt.xlabel('Epoch')\n",
    "plt.ylabel('Accuracy')\n",
    "plt.ylim([0, 1])\n",
    "plt.legend(loc='lower right')\n",
    "plt.title(\"L2 Model Accuracy v. Epoch\")\n",
    "test_loss, test_acc = l2_mod.evaluate(test_images,  test_labels, verbose=2)\n",
    "plt.savefig(\"l2_mod.png\")"
   ]
  },
  {
   "cell_type": "code",
   "execution_count": 39,
   "id": "9be706eb",
   "metadata": {},
   "outputs": [],
   "source": [
    "l2_v2_mod = models.Sequential()\n",
    "l2_v2_mod.add(layers.Conv2D(32, (3, 3), input_shape=(28, 28, 1),activation='relu',padding = 'same'))\n",
    "l2_v2_mod.add(layers.MaxPooling2D((2, 2)))\n",
    "l2_v2_mod.add(layers.Conv2D(32, (3, 3), activation='relu',padding = 'same'))\n",
    "l2_v2_mod.add(layers.MaxPooling2D((2, 2)))\n",
    "l2_v2_mod.add(layers.Conv2D(64, (3, 3), activation='relu',padding = 'same'))\n",
    "l2_v2_mod.add(layers.MaxPooling2D((2, 2)))\n",
    "l2_v2_mod.add(layers.Conv2D(64, (2, 2), activation='relu',padding = 'same'))\n",
    "l2_v2_mod.add(layers.MaxPooling2D((2, 2)))\n",
    "l2_v2_mod.add(layers.Flatten())\n",
    "l2_v2_mod.add(layers.Dense(64, activation='relu',kernel_regularizer=regularizers.l2(0.01)))\n",
    "l2_v2_mod.add(layers.Dense(25))"
   ]
  },
  {
   "cell_type": "code",
   "execution_count": 40,
   "id": "cb007102",
   "metadata": {},
   "outputs": [
    {
     "name": "stdout",
     "output_type": "stream",
     "text": [
      "Epoch 1/10\n",
      "2746/2746 [==============================] - 18s 6ms/step - loss: 1.5714 - accuracy: 0.5249 - val_loss: 0.7298 - val_accuracy: 0.7833\n",
      "Epoch 2/10\n",
      "2746/2746 [==============================] - 17s 6ms/step - loss: 0.2023 - accuracy: 0.9566 - val_loss: 0.5285 - val_accuracy: 0.8687\n",
      "Epoch 3/10\n",
      "2746/2746 [==============================] - 17s 6ms/step - loss: 0.1112 - accuracy: 0.9831 - val_loss: 0.5122 - val_accuracy: 0.8606\n",
      "Epoch 4/10\n",
      "2746/2746 [==============================] - 17s 6ms/step - loss: 0.0745 - accuracy: 0.9911 - val_loss: 0.3550 - val_accuracy: 0.8946\n",
      "Epoch 5/10\n",
      "2746/2746 [==============================] - 17s 6ms/step - loss: 0.0542 - accuracy: 0.9926 - val_loss: 0.3704 - val_accuracy: 0.9014\n",
      "Epoch 6/10\n",
      "2746/2746 [==============================] - 17s 6ms/step - loss: 0.0710 - accuracy: 0.9873 - val_loss: 0.3798 - val_accuracy: 0.9070\n",
      "Epoch 7/10\n",
      "2746/2746 [==============================] - 17s 6ms/step - loss: 0.0499 - accuracy: 0.9919 - val_loss: 0.3820 - val_accuracy: 0.8967\n",
      "Epoch 8/10\n",
      "2746/2746 [==============================] - 17s 6ms/step - loss: 0.0441 - accuracy: 0.9929 - val_loss: 0.5163 - val_accuracy: 0.8610\n",
      "Epoch 9/10\n",
      "2746/2746 [==============================] - 17s 6ms/step - loss: 0.0284 - accuracy: 0.9979 - val_loss: 0.3414 - val_accuracy: 0.8985\n",
      "Epoch 10/10\n",
      "2746/2746 [==============================] - 17s 6ms/step - loss: 0.0463 - accuracy: 0.9917 - val_loss: 0.3501 - val_accuracy: 0.9172\n"
     ]
    }
   ],
   "source": [
    "l2_v2_mod.compile(optimizer='adam',\n",
    "              loss=tf.keras.losses.SparseCategoricalCrossentropy(from_logits=True),\n",
    "              metrics=['accuracy'])\n",
    "\n",
    "l2_v2_history = l2_v2_mod.fit(train_images, train_labels, \n",
    "          validation_data = (test_images, test_labels), \n",
    "          epochs= 10, batch_size= 10)"
   ]
  },
  {
   "cell_type": "code",
   "execution_count": 41,
   "id": "56719cd6",
   "metadata": {},
   "outputs": [
    {
     "name": "stdout",
     "output_type": "stream",
     "text": [
      "225/225 - 1s - loss: 0.3501 - accuracy: 0.9172 - 1s/epoch - 5ms/step\n"
     ]
    },
    {
     "data": {
      "image/png": "[encoded data removed]",
      "text/plain": [
       "<Figure size 432x288 with 1 Axes>"
      ]
     },
     "metadata": {
      "needs_background": "light"
     },
     "output_type": "display_data"
    }
   ],
   "source": [
    "plt.plot(l2_v2_history.history['accuracy'], label='accuracy')\n",
    "plt.plot(l2_v2_history.history['val_accuracy'], label = 'val_accuracy')\n",
    "plt.xlabel('Epoch')\n",
    "plt.ylabel('Accuracy')\n",
    "plt.ylim([0.5, 1])\n",
    "plt.legend(loc='lower right')\n",
    "plt.title('L2 Model (only on dense layer) Accuracy v. Epoch')\n",
    "\n",
    "test_loss, test_acc = l2_v2_mod.evaluate(test_images,  test_labels, verbose=2)\n",
    "plt.savefig(\"l2_v2_mod.png\")"
   ]
  },
  {
   "cell_type": "code",
   "execution_count": null,
   "id": "22990845",
   "metadata": {},
   "outputs": [],
   "source": []
  }
 ],
 "metadata": {
  "kernelspec": {
   "display_name": "Python 3",
   "language": "python",
   "name": "python3"
  },
  "language_info": {
   "codemirror_mode": {
    "name": "ipython",
    "version": 3
   },
   "file_extension": ".py",
   "mimetype": "text/x-python",
   "name": "python",
   "nbconvert_exporter": "python",
   "pygments_lexer": "ipython3",
   "version": "3.8.8"
  }
 },
 "nbformat": 4,
 "nbformat_minor": 5
}
