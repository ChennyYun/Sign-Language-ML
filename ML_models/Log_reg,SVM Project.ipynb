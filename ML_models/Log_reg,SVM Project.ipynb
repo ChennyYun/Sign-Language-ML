{
 "cells": [
  {
   "cell_type": "code",
   "execution_count": null,
   "id": "1451d8cf",
   "metadata": {},
   "outputs": [],
   "source": []
  },
  {
   "cell_type": "code",
   "execution_count": 11,
   "id": "aa4635ae",
   "metadata": {},
   "outputs": [],
   "source": [
    "import numpy as np\n",
    "import matplotlib\n",
    "import matplotlib.pyplot as plt\n",
    "import pandas as pd\n",
    "from sklearn import linear_model\n",
    "from sklearn.preprocessing import StandardScaler\n",
    "from sklearn.model_selection import train_test_split\n",
    "from skimage  import io \n",
    "from tqdm import tqdm\n",
    "from sklearn import svm\n",
    "%matplotlib inline"
   ]
  },
  {
   "cell_type": "markdown",
   "id": "5d30fb2d",
   "metadata": {},
   "source": [
    "# GETTING DATASET"
   ]
  },
  {
   "cell_type": "code",
   "execution_count": 12,
   "id": "3c36d643",
   "metadata": {},
   "outputs": [
    {
     "data": {
      "text/html": [
       "<div>\n",
       "<style scoped>\n",
       "    .dataframe tbody tr th:only-of-type {\n",
       "        vertical-align: middle;\n",
       "    }\n",
       "\n",
       "    .dataframe tbody tr th {\n",
       "        vertical-align: top;\n",
       "    }\n",
       "\n",
       "    .dataframe thead th {\n",
       "        text-align: right;\n",
       "    }\n",
       "</style>\n",
       "<table border=\"1\" class=\"dataframe\">\n",
       "  <thead>\n",
       "    <tr style=\"text-align: right;\">\n",
       "      <th></th>\n",
       "      <th>label</th>\n",
       "      <th>pixel1</th>\n",
       "      <th>pixel2</th>\n",
       "      <th>pixel3</th>\n",
       "      <th>pixel4</th>\n",
       "      <th>pixel5</th>\n",
       "      <th>pixel6</th>\n",
       "      <th>pixel7</th>\n",
       "      <th>pixel8</th>\n",
       "      <th>pixel9</th>\n",
       "      <th>...</th>\n",
       "      <th>pixel775</th>\n",
       "      <th>pixel776</th>\n",
       "      <th>pixel777</th>\n",
       "      <th>pixel778</th>\n",
       "      <th>pixel779</th>\n",
       "      <th>pixel780</th>\n",
       "      <th>pixel781</th>\n",
       "      <th>pixel782</th>\n",
       "      <th>pixel783</th>\n",
       "      <th>pixel784</th>\n",
       "    </tr>\n",
       "  </thead>\n",
       "  <tbody>\n",
       "    <tr>\n",
       "      <th>0</th>\n",
       "      <td>3</td>\n",
       "      <td>107</td>\n",
       "      <td>118</td>\n",
       "      <td>127</td>\n",
       "      <td>134</td>\n",
       "      <td>139</td>\n",
       "      <td>143</td>\n",
       "      <td>146</td>\n",
       "      <td>150</td>\n",
       "      <td>153</td>\n",
       "      <td>...</td>\n",
       "      <td>207</td>\n",
       "      <td>207</td>\n",
       "      <td>207</td>\n",
       "      <td>207</td>\n",
       "      <td>206</td>\n",
       "      <td>206</td>\n",
       "      <td>206</td>\n",
       "      <td>204</td>\n",
       "      <td>203</td>\n",
       "      <td>202</td>\n",
       "    </tr>\n",
       "    <tr>\n",
       "      <th>1</th>\n",
       "      <td>6</td>\n",
       "      <td>155</td>\n",
       "      <td>157</td>\n",
       "      <td>156</td>\n",
       "      <td>156</td>\n",
       "      <td>156</td>\n",
       "      <td>157</td>\n",
       "      <td>156</td>\n",
       "      <td>158</td>\n",
       "      <td>158</td>\n",
       "      <td>...</td>\n",
       "      <td>69</td>\n",
       "      <td>149</td>\n",
       "      <td>128</td>\n",
       "      <td>87</td>\n",
       "      <td>94</td>\n",
       "      <td>163</td>\n",
       "      <td>175</td>\n",
       "      <td>103</td>\n",
       "      <td>135</td>\n",
       "      <td>149</td>\n",
       "    </tr>\n",
       "    <tr>\n",
       "      <th>2</th>\n",
       "      <td>2</td>\n",
       "      <td>187</td>\n",
       "      <td>188</td>\n",
       "      <td>188</td>\n",
       "      <td>187</td>\n",
       "      <td>187</td>\n",
       "      <td>186</td>\n",
       "      <td>187</td>\n",
       "      <td>188</td>\n",
       "      <td>187</td>\n",
       "      <td>...</td>\n",
       "      <td>202</td>\n",
       "      <td>201</td>\n",
       "      <td>200</td>\n",
       "      <td>199</td>\n",
       "      <td>198</td>\n",
       "      <td>199</td>\n",
       "      <td>198</td>\n",
       "      <td>195</td>\n",
       "      <td>194</td>\n",
       "      <td>195</td>\n",
       "    </tr>\n",
       "    <tr>\n",
       "      <th>3</th>\n",
       "      <td>2</td>\n",
       "      <td>211</td>\n",
       "      <td>211</td>\n",
       "      <td>212</td>\n",
       "      <td>212</td>\n",
       "      <td>211</td>\n",
       "      <td>210</td>\n",
       "      <td>211</td>\n",
       "      <td>210</td>\n",
       "      <td>210</td>\n",
       "      <td>...</td>\n",
       "      <td>235</td>\n",
       "      <td>234</td>\n",
       "      <td>233</td>\n",
       "      <td>231</td>\n",
       "      <td>230</td>\n",
       "      <td>226</td>\n",
       "      <td>225</td>\n",
       "      <td>222</td>\n",
       "      <td>229</td>\n",
       "      <td>163</td>\n",
       "    </tr>\n",
       "    <tr>\n",
       "      <th>4</th>\n",
       "      <td>13</td>\n",
       "      <td>164</td>\n",
       "      <td>167</td>\n",
       "      <td>170</td>\n",
       "      <td>172</td>\n",
       "      <td>176</td>\n",
       "      <td>179</td>\n",
       "      <td>180</td>\n",
       "      <td>184</td>\n",
       "      <td>185</td>\n",
       "      <td>...</td>\n",
       "      <td>92</td>\n",
       "      <td>105</td>\n",
       "      <td>105</td>\n",
       "      <td>108</td>\n",
       "      <td>133</td>\n",
       "      <td>163</td>\n",
       "      <td>157</td>\n",
       "      <td>163</td>\n",
       "      <td>164</td>\n",
       "      <td>179</td>\n",
       "    </tr>\n",
       "  </tbody>\n",
       "</table>\n",
       "<p>5 rows × 785 columns</p>\n",
       "</div>"
      ],
      "text/plain": [
       "   label  pixel1  pixel2  pixel3  pixel4  pixel5  pixel6  pixel7  pixel8  \\\n",
       "0      3     107     118     127     134     139     143     146     150   \n",
       "1      6     155     157     156     156     156     157     156     158   \n",
       "2      2     187     188     188     187     187     186     187     188   \n",
       "3      2     211     211     212     212     211     210     211     210   \n",
       "4     13     164     167     170     172     176     179     180     184   \n",
       "\n",
       "   pixel9  ...  pixel775  pixel776  pixel777  pixel778  pixel779  pixel780  \\\n",
       "0     153  ...       207       207       207       207       206       206   \n",
       "1     158  ...        69       149       128        87        94       163   \n",
       "2     187  ...       202       201       200       199       198       199   \n",
       "3     210  ...       235       234       233       231       230       226   \n",
       "4     185  ...        92       105       105       108       133       163   \n",
       "\n",
       "   pixel781  pixel782  pixel783  pixel784  \n",
       "0       206       204       203       202  \n",
       "1       175       103       135       149  \n",
       "2       198       195       194       195  \n",
       "3       225       222       229       163  \n",
       "4       157       163       164       179  \n",
       "\n",
       "[5 rows x 785 columns]"
      ]
     },
     "execution_count": 12,
     "metadata": {},
     "output_type": "execute_result"
    }
   ],
   "source": [
    "dftrain = pd.read_csv(\"archive/sign_mnist_train.csv\")\n",
    "dftest = pd.read_csv(\"archive/sign_mnist_test.csv\")\n",
    "dftrain.head()\n"
   ]
  },
  {
   "cell_type": "code",
   "execution_count": 13,
   "id": "91bcb66d",
   "metadata": {},
   "outputs": [
    {
     "data": {
      "text/html": [
       "<div>\n",
       "<style scoped>\n",
       "    .dataframe tbody tr th:only-of-type {\n",
       "        vertical-align: middle;\n",
       "    }\n",
       "\n",
       "    .dataframe tbody tr th {\n",
       "        vertical-align: top;\n",
       "    }\n",
       "\n",
       "    .dataframe thead th {\n",
       "        text-align: right;\n",
       "    }\n",
       "</style>\n",
       "<table border=\"1\" class=\"dataframe\">\n",
       "  <thead>\n",
       "    <tr style=\"text-align: right;\">\n",
       "      <th></th>\n",
       "      <th>label</th>\n",
       "      <th>pixel1</th>\n",
       "      <th>pixel2</th>\n",
       "      <th>pixel3</th>\n",
       "      <th>pixel4</th>\n",
       "      <th>pixel5</th>\n",
       "      <th>pixel6</th>\n",
       "      <th>pixel7</th>\n",
       "      <th>pixel8</th>\n",
       "      <th>pixel9</th>\n",
       "      <th>...</th>\n",
       "      <th>pixel775</th>\n",
       "      <th>pixel776</th>\n",
       "      <th>pixel777</th>\n",
       "      <th>pixel778</th>\n",
       "      <th>pixel779</th>\n",
       "      <th>pixel780</th>\n",
       "      <th>pixel781</th>\n",
       "      <th>pixel782</th>\n",
       "      <th>pixel783</th>\n",
       "      <th>pixel784</th>\n",
       "    </tr>\n",
       "  </thead>\n",
       "  <tbody>\n",
       "    <tr>\n",
       "      <th>0</th>\n",
       "      <td>6</td>\n",
       "      <td>149</td>\n",
       "      <td>149</td>\n",
       "      <td>150</td>\n",
       "      <td>150</td>\n",
       "      <td>150</td>\n",
       "      <td>151</td>\n",
       "      <td>151</td>\n",
       "      <td>150</td>\n",
       "      <td>151</td>\n",
       "      <td>...</td>\n",
       "      <td>138</td>\n",
       "      <td>148</td>\n",
       "      <td>127</td>\n",
       "      <td>89</td>\n",
       "      <td>82</td>\n",
       "      <td>96</td>\n",
       "      <td>106</td>\n",
       "      <td>112</td>\n",
       "      <td>120</td>\n",
       "      <td>107</td>\n",
       "    </tr>\n",
       "    <tr>\n",
       "      <th>1</th>\n",
       "      <td>5</td>\n",
       "      <td>126</td>\n",
       "      <td>128</td>\n",
       "      <td>131</td>\n",
       "      <td>132</td>\n",
       "      <td>133</td>\n",
       "      <td>134</td>\n",
       "      <td>135</td>\n",
       "      <td>135</td>\n",
       "      <td>136</td>\n",
       "      <td>...</td>\n",
       "      <td>47</td>\n",
       "      <td>104</td>\n",
       "      <td>194</td>\n",
       "      <td>183</td>\n",
       "      <td>186</td>\n",
       "      <td>184</td>\n",
       "      <td>184</td>\n",
       "      <td>184</td>\n",
       "      <td>182</td>\n",
       "      <td>180</td>\n",
       "    </tr>\n",
       "    <tr>\n",
       "      <th>2</th>\n",
       "      <td>10</td>\n",
       "      <td>85</td>\n",
       "      <td>88</td>\n",
       "      <td>92</td>\n",
       "      <td>96</td>\n",
       "      <td>105</td>\n",
       "      <td>123</td>\n",
       "      <td>135</td>\n",
       "      <td>143</td>\n",
       "      <td>147</td>\n",
       "      <td>...</td>\n",
       "      <td>68</td>\n",
       "      <td>166</td>\n",
       "      <td>242</td>\n",
       "      <td>227</td>\n",
       "      <td>230</td>\n",
       "      <td>227</td>\n",
       "      <td>226</td>\n",
       "      <td>225</td>\n",
       "      <td>224</td>\n",
       "      <td>222</td>\n",
       "    </tr>\n",
       "    <tr>\n",
       "      <th>3</th>\n",
       "      <td>0</td>\n",
       "      <td>203</td>\n",
       "      <td>205</td>\n",
       "      <td>207</td>\n",
       "      <td>206</td>\n",
       "      <td>207</td>\n",
       "      <td>209</td>\n",
       "      <td>210</td>\n",
       "      <td>209</td>\n",
       "      <td>210</td>\n",
       "      <td>...</td>\n",
       "      <td>154</td>\n",
       "      <td>248</td>\n",
       "      <td>247</td>\n",
       "      <td>248</td>\n",
       "      <td>253</td>\n",
       "      <td>236</td>\n",
       "      <td>230</td>\n",
       "      <td>240</td>\n",
       "      <td>253</td>\n",
       "      <td>255</td>\n",
       "    </tr>\n",
       "    <tr>\n",
       "      <th>4</th>\n",
       "      <td>3</td>\n",
       "      <td>188</td>\n",
       "      <td>191</td>\n",
       "      <td>193</td>\n",
       "      <td>195</td>\n",
       "      <td>199</td>\n",
       "      <td>201</td>\n",
       "      <td>202</td>\n",
       "      <td>203</td>\n",
       "      <td>203</td>\n",
       "      <td>...</td>\n",
       "      <td>26</td>\n",
       "      <td>40</td>\n",
       "      <td>64</td>\n",
       "      <td>48</td>\n",
       "      <td>29</td>\n",
       "      <td>46</td>\n",
       "      <td>49</td>\n",
       "      <td>46</td>\n",
       "      <td>46</td>\n",
       "      <td>53</td>\n",
       "    </tr>\n",
       "  </tbody>\n",
       "</table>\n",
       "<p>5 rows × 785 columns</p>\n",
       "</div>"
      ],
      "text/plain": [
       "   label  pixel1  pixel2  pixel3  pixel4  pixel5  pixel6  pixel7  pixel8  \\\n",
       "0      6     149     149     150     150     150     151     151     150   \n",
       "1      5     126     128     131     132     133     134     135     135   \n",
       "2     10      85      88      92      96     105     123     135     143   \n",
       "3      0     203     205     207     206     207     209     210     209   \n",
       "4      3     188     191     193     195     199     201     202     203   \n",
       "\n",
       "   pixel9  ...  pixel775  pixel776  pixel777  pixel778  pixel779  pixel780  \\\n",
       "0     151  ...       138       148       127        89        82        96   \n",
       "1     136  ...        47       104       194       183       186       184   \n",
       "2     147  ...        68       166       242       227       230       227   \n",
       "3     210  ...       154       248       247       248       253       236   \n",
       "4     203  ...        26        40        64        48        29        46   \n",
       "\n",
       "   pixel781  pixel782  pixel783  pixel784  \n",
       "0       106       112       120       107  \n",
       "1       184       184       182       180  \n",
       "2       226       225       224       222  \n",
       "3       230       240       253       255  \n",
       "4        49        46        46        53  \n",
       "\n",
       "[5 rows x 785 columns]"
      ]
     },
     "execution_count": 13,
     "metadata": {},
     "output_type": "execute_result"
    }
   ],
   "source": [
    "dftest.head()"
   ]
  },
  {
   "cell_type": "code",
   "execution_count": 106,
   "id": "fb38bd88",
   "metadata": {},
   "outputs": [],
   "source": [
    "dftrain.shape\n",
    "X_train = dftrain.drop('label',axis=1).values\n",
    "Y_train = dftrain['label'].values\n",
    "X_test = dftest.drop('label',axis=1).values\n",
    "Y_test = dftest['label'].values"
   ]
  },
  {
   "cell_type": "code",
   "execution_count": 107,
   "id": "190dada4",
   "metadata": {},
   "outputs": [],
   "source": [
    "scaler = StandardScaler()\n",
    "\n",
    "X_train= scaler.fit_transform(X_train)\n",
    "X_test = scaler.transform(X_test)"
   ]
  },
  {
   "cell_type": "code",
   "execution_count": 141,
   "id": "c2dfab20",
   "metadata": {},
   "outputs": [],
   "source": [
    "def printImage(sub,val):\n",
    "    img = val.reshape((28,28))\n",
    "    sub.imshow(img,cmap=plt.cm.gray)\n"
   ]
  },
  {
   "cell_type": "code",
   "execution_count": 142,
   "id": "1157d1e4",
   "metadata": {},
   "outputs": [
    {
     "data": {
      "image/png": "[encoded data removed]",
      "text/plain": [
       "<Figure size 720x216 with 10 Axes>"
      ]
     },
     "metadata": {
      "needs_background": "light"
     },
     "output_type": "display_data"
    }
   ],
   "source": [
    "fig, ax = plt.subplots(1,10,figsize=(10,3))\n",
    "for i in range(10):\n",
    "    printImage(ax[i],X_train[i])"
   ]
  },
  {
   "cell_type": "code",
   "execution_count": 143,
   "id": "d98cd639",
   "metadata": {},
   "outputs": [
    {
     "data": {
      "image/png": "[encoded data removed]",
      "text/plain": [
       "<Figure size 432x288 with 1 Axes>"
      ]
     },
     "metadata": {
      "needs_background": "light"
     },
     "output_type": "display_data"
    }
   ],
   "source": [
    "printImage(plt,X_train[2])"
   ]
  },
  {
   "cell_type": "markdown",
   "id": "f41c018d",
   "metadata": {},
   "source": [
    "# LogReg"
   ]
  },
  {
   "cell_type": "code",
   "execution_count": 21,
   "id": "696667af",
   "metadata": {
    "scrolled": true
   },
   "outputs": [
    {
     "name": "stderr",
     "output_type": "stream",
     "text": [
      "C:\\Users\\nirav\\anaconda3\\lib\\site-packages\\sklearn\\linear_model\\_logistic.py:763: ConvergenceWarning: lbfgs failed to converge (status=1):\n",
      "STOP: TOTAL NO. of ITERATIONS REACHED LIMIT.\n",
      "\n",
      "Increase the number of iterations (max_iter) or scale the data as shown in:\n",
      "    https://scikit-learn.org/stable/modules/preprocessing.html\n",
      "Please also refer to the documentation for alternative solver options:\n",
      "    https://scikit-learn.org/stable/modules/linear_model.html#logistic-regression\n",
      "  n_iter_i = _check_optimize_result(\n"
     ]
    }
   ],
   "source": [
    "iterations = [0,100,200,300]\n",
    "models = []\n",
    "C = [0.01,0.1, 1, 10, 100, 1000,10000]\n",
    "\n",
    "logreg = linear_model.LogisticRegression(max_iter=i)\n",
    "logreg.fit(X_train,Y_train)\n",
    "models.append(logreg)"
   ]
  },
  {
   "cell_type": "code",
   "execution_count": null,
   "id": "4c294b67",
   "metadata": {
    "scrolled": true
   },
   "outputs": [
    {
     "name": "stderr",
     "output_type": "stream",
     "text": [
      "C:\\Users\\nirav\\anaconda3\\lib\\site-packages\\sklearn\\linear_model\\_sag.py:328: ConvergenceWarning: The max_iter was reached which means the coef_ did not converge\n",
      "  warnings.warn(\"The max_iter was reached which means \"\n",
      "C:\\Users\\nirav\\anaconda3\\lib\\site-packages\\sklearn\\linear_model\\_sag.py:328: ConvergenceWarning: The max_iter was reached which means the coef_ did not converge\n",
      "  warnings.warn(\"The max_iter was reached which means \"\n",
      "C:\\Users\\nirav\\anaconda3\\lib\\site-packages\\sklearn\\linear_model\\_sag.py:328: ConvergenceWarning: The max_iter was reached which means the coef_ did not converge\n",
      "  warnings.warn(\"The max_iter was reached which means \"\n",
      "C:\\Users\\nirav\\anaconda3\\lib\\site-packages\\sklearn\\linear_model\\_sag.py:328: ConvergenceWarning: The max_iter was reached which means the coef_ did not converge\n",
      "  warnings.warn(\"The max_iter was reached which means \"\n",
      "C:\\Users\\nirav\\anaconda3\\lib\\site-packages\\sklearn\\linear_model\\_sag.py:328: ConvergenceWarning: The max_iter was reached which means the coef_ did not converge\n",
      "  warnings.warn(\"The max_iter was reached which means \"\n",
      "C:\\Users\\nirav\\anaconda3\\lib\\site-packages\\sklearn\\linear_model\\_sag.py:328: ConvergenceWarning: The max_iter was reached which means the coef_ did not converge\n",
      "  warnings.warn(\"The max_iter was reached which means \"\n"
     ]
    }
   ],
   "source": [
    "for c in C:\n",
    "    logreg = linear_model.LogisticRegression(penalty = \"l2\",C = c,solver = \"sag\")\n",
    "    logreg.fit(X_train,Y_train)\n",
    "    models.append(logreg)\n"
   ]
  },
  {
   "cell_type": "code",
   "execution_count": null,
   "id": "e6278aa5",
   "metadata": {},
   "outputs": [],
   "source": [
    "for c in C:\n",
    "    logreg = linear_model.LogisticRegression(penalty = \"l1\",C = c,solver = \"saga\",max_iter=i)\n",
    "    logreg.fit(X_train,Y_train)\n",
    "    models.append(logreg)"
   ]
  },
  {
   "cell_type": "code",
   "execution_count": null,
   "id": "ac251e7a",
   "metadata": {},
   "outputs": [],
   "source": [
    "for mod in models:\n",
    "    yhat = mod.predict(X_train)\n",
    "    acc = np.mean(yhat == Y_train)\n",
    "    print('Train Accuaracy = {0:f}%'.format(acc*100))\n",
    "    yhat = mod.predict(X_test)\n",
    "    acc = np.mean(yhat == Y_test)\n",
    "    print('Test Accuaracy = {0:f}%'.format(acc*100))"
   ]
  },
  {
   "cell_type": "markdown",
   "id": "004bfada",
   "metadata": {},
   "source": [
    "# SVM"
   ]
  },
  {
   "cell_type": "code",
   "execution_count": 43,
   "id": "00081511",
   "metadata": {},
   "outputs": [
    {
     "name": "stdout",
     "output_type": "stream",
     "text": [
      "[LibSVM][LibSVM][LibSVM][LibSVM][LibSVM][LibSVM][LibSVM]"
     ]
    }
   ],
   "source": [
    "from sklearn import svm\n",
    "svm_models = []\n",
    "\n",
    "C = [0.01,0.1, 1, 10, 100, 1000,10000]\n",
    "for c in C:\n",
    "    svc = svm.SVC(C=c,probability=False,  kernel=\"linear\",verbose=10)\n",
    "    svc.fit(X_train,Y_train)\n",
    "    svm_models.append(svc)\n",
    "\n"
   ]
  },
  {
   "cell_type": "code",
   "execution_count": 44,
   "id": "1aa566b4",
   "metadata": {},
   "outputs": [
    {
     "name": "stdout",
     "output_type": "stream",
     "text": [
      "[LibSVM][LibSVM]"
     ]
    },
    {
     "ename": "KeyboardInterrupt",
     "evalue": "",
     "output_type": "error",
     "traceback": [
      "\u001b[1;31m---------------------------------------------------------------------------\u001b[0m",
      "\u001b[1;31mKeyboardInterrupt\u001b[0m                         Traceback (most recent call last)",
      "\u001b[1;32m<ipython-input-44-9c0dc4355c88>\u001b[0m in \u001b[0;36m<module>\u001b[1;34m\u001b[0m\n\u001b[0;32m      1\u001b[0m \u001b[1;32mfor\u001b[0m \u001b[0mc\u001b[0m \u001b[1;32min\u001b[0m \u001b[0mC\u001b[0m\u001b[1;33m:\u001b[0m\u001b[1;33m\u001b[0m\u001b[1;33m\u001b[0m\u001b[0m\n\u001b[0;32m      2\u001b[0m     \u001b[0msvc\u001b[0m \u001b[1;33m=\u001b[0m \u001b[0msvm\u001b[0m\u001b[1;33m.\u001b[0m\u001b[0mSVC\u001b[0m\u001b[1;33m(\u001b[0m\u001b[0mC\u001b[0m\u001b[1;33m=\u001b[0m\u001b[0mc\u001b[0m\u001b[1;33m,\u001b[0m\u001b[0mprobability\u001b[0m\u001b[1;33m=\u001b[0m\u001b[1;32mFalse\u001b[0m\u001b[1;33m,\u001b[0m  \u001b[0mkernel\u001b[0m\u001b[1;33m=\u001b[0m\u001b[1;34m\"poly\"\u001b[0m\u001b[1;33m,\u001b[0m\u001b[0mverbose\u001b[0m\u001b[1;33m=\u001b[0m\u001b[1;36m10\u001b[0m\u001b[1;33m)\u001b[0m\u001b[1;33m\u001b[0m\u001b[1;33m\u001b[0m\u001b[0m\n\u001b[1;32m----> 3\u001b[1;33m     \u001b[0msvc\u001b[0m\u001b[1;33m.\u001b[0m\u001b[0mfit\u001b[0m\u001b[1;33m(\u001b[0m\u001b[0mX_train\u001b[0m\u001b[1;33m,\u001b[0m\u001b[0mY_train\u001b[0m\u001b[1;33m)\u001b[0m\u001b[1;33m\u001b[0m\u001b[1;33m\u001b[0m\u001b[0m\n\u001b[0m\u001b[0;32m      4\u001b[0m     \u001b[0msvm_models\u001b[0m\u001b[1;33m.\u001b[0m\u001b[0mappend\u001b[0m\u001b[1;33m(\u001b[0m\u001b[0msvc\u001b[0m\u001b[1;33m)\u001b[0m\u001b[1;33m\u001b[0m\u001b[1;33m\u001b[0m\u001b[0m\n",
      "\u001b[1;32m~\\anaconda3\\lib\\site-packages\\sklearn\\svm\\_base.py\u001b[0m in \u001b[0;36mfit\u001b[1;34m(self, X, y, sample_weight)\u001b[0m\n\u001b[0;32m    224\u001b[0m \u001b[1;33m\u001b[0m\u001b[0m\n\u001b[0;32m    225\u001b[0m         \u001b[0mseed\u001b[0m \u001b[1;33m=\u001b[0m \u001b[0mrnd\u001b[0m\u001b[1;33m.\u001b[0m\u001b[0mrandint\u001b[0m\u001b[1;33m(\u001b[0m\u001b[0mnp\u001b[0m\u001b[1;33m.\u001b[0m\u001b[0miinfo\u001b[0m\u001b[1;33m(\u001b[0m\u001b[1;34m'i'\u001b[0m\u001b[1;33m)\u001b[0m\u001b[1;33m.\u001b[0m\u001b[0mmax\u001b[0m\u001b[1;33m)\u001b[0m\u001b[1;33m\u001b[0m\u001b[1;33m\u001b[0m\u001b[0m\n\u001b[1;32m--> 226\u001b[1;33m         \u001b[0mfit\u001b[0m\u001b[1;33m(\u001b[0m\u001b[0mX\u001b[0m\u001b[1;33m,\u001b[0m \u001b[0my\u001b[0m\u001b[1;33m,\u001b[0m \u001b[0msample_weight\u001b[0m\u001b[1;33m,\u001b[0m \u001b[0msolver_type\u001b[0m\u001b[1;33m,\u001b[0m \u001b[0mkernel\u001b[0m\u001b[1;33m,\u001b[0m \u001b[0mrandom_seed\u001b[0m\u001b[1;33m=\u001b[0m\u001b[0mseed\u001b[0m\u001b[1;33m)\u001b[0m\u001b[1;33m\u001b[0m\u001b[1;33m\u001b[0m\u001b[0m\n\u001b[0m\u001b[0;32m    227\u001b[0m         \u001b[1;31m# see comment on the other call to np.iinfo in this file\u001b[0m\u001b[1;33m\u001b[0m\u001b[1;33m\u001b[0m\u001b[1;33m\u001b[0m\u001b[0m\n\u001b[0;32m    228\u001b[0m \u001b[1;33m\u001b[0m\u001b[0m\n",
      "\u001b[1;32m~\\anaconda3\\lib\\site-packages\\sklearn\\svm\\_base.py\u001b[0m in \u001b[0;36m_dense_fit\u001b[1;34m(self, X, y, sample_weight, solver_type, kernel, random_seed)\u001b[0m\n\u001b[0;32m    275\u001b[0m         \u001b[0mself\u001b[0m\u001b[1;33m.\u001b[0m\u001b[0msupport_\u001b[0m\u001b[1;33m,\u001b[0m \u001b[0mself\u001b[0m\u001b[1;33m.\u001b[0m\u001b[0msupport_vectors_\u001b[0m\u001b[1;33m,\u001b[0m \u001b[0mself\u001b[0m\u001b[1;33m.\u001b[0m\u001b[0m_n_support\u001b[0m\u001b[1;33m,\u001b[0m\u001b[0;31m \u001b[0m\u001b[0;31m\\\u001b[0m\u001b[1;33m\u001b[0m\u001b[1;33m\u001b[0m\u001b[0m\n\u001b[0;32m    276\u001b[0m             \u001b[0mself\u001b[0m\u001b[1;33m.\u001b[0m\u001b[0mdual_coef_\u001b[0m\u001b[1;33m,\u001b[0m \u001b[0mself\u001b[0m\u001b[1;33m.\u001b[0m\u001b[0mintercept_\u001b[0m\u001b[1;33m,\u001b[0m \u001b[0mself\u001b[0m\u001b[1;33m.\u001b[0m\u001b[0m_probA\u001b[0m\u001b[1;33m,\u001b[0m\u001b[0;31m \u001b[0m\u001b[0;31m\\\u001b[0m\u001b[1;33m\u001b[0m\u001b[1;33m\u001b[0m\u001b[0m\n\u001b[1;32m--> 277\u001b[1;33m             self._probB, self.fit_status_ = libsvm.fit(\n\u001b[0m\u001b[0;32m    278\u001b[0m                 \u001b[0mX\u001b[0m\u001b[1;33m,\u001b[0m \u001b[0my\u001b[0m\u001b[1;33m,\u001b[0m\u001b[1;33m\u001b[0m\u001b[1;33m\u001b[0m\u001b[0m\n\u001b[0;32m    279\u001b[0m                 \u001b[0msvm_type\u001b[0m\u001b[1;33m=\u001b[0m\u001b[0msolver_type\u001b[0m\u001b[1;33m,\u001b[0m \u001b[0msample_weight\u001b[0m\u001b[1;33m=\u001b[0m\u001b[0msample_weight\u001b[0m\u001b[1;33m,\u001b[0m\u001b[1;33m\u001b[0m\u001b[1;33m\u001b[0m\u001b[0m\n",
      "\u001b[1;31mKeyboardInterrupt\u001b[0m: "
     ]
    }
   ],
   "source": [
    "for c in C:\n",
    "    svc = svm.SVC(C=c,probability=False,  kernel=\"poly\",verbose=10)\n",
    "    svc.fit(X_train,Y_train)\n",
    "    svm_models.append(svc)"
   ]
  },
  {
   "cell_type": "code",
   "execution_count": null,
   "id": "b512fc41",
   "metadata": {},
   "outputs": [],
   "source": [
    "for c in C:\n",
    "    svc = svm.SVC(C=c,probability=False,  kernel=\"rbf\",verbose=10)\n",
    "    svc.fit(X_train,Y_train)\n",
    "    svm_models.append(svc)"
   ]
  },
  {
   "cell_type": "code",
   "execution_count": 39,
   "id": "a85ee845",
   "metadata": {},
   "outputs": [
    {
     "name": "stdout",
     "output_type": "stream",
     "text": [
      "Train Accuaracy = 100.000000%\n",
      "Test Accuaracy = 80.688790%\n",
      "Train Accuaracy = 100.000000%\n",
      "Test Accuaracy = 80.577245%\n",
      "Train Accuaracy = 100.000000%\n",
      "Test Accuaracy = 80.535416%\n",
      "Train Accuaracy = 100.000000%\n",
      "Test Accuaracy = 80.535416%\n",
      "Train Accuaracy = 100.000000%\n",
      "Test Accuaracy = 80.535416%\n",
      "Train Accuaracy = 100.000000%\n",
      "Test Accuaracy = 80.535416%\n",
      "Train Accuaracy = 100.000000%\n",
      "Test Accuaracy = 80.535416%\n",
      "Train Accuaracy = 29.699508%\n",
      "Test Accuaracy = 20.175683%\n",
      "Train Accuaracy = 74.070297%\n",
      "Test Accuaracy = 53.722811%\n",
      "Train Accuaracy = 98.823529%\n",
      "Test Accuaracy = 78.137200%\n",
      "Train Accuaracy = 100.000000%\n",
      "Test Accuaracy = 82.194646%\n",
      "Train Accuaracy = 100.000000%\n",
      "Test Accuaracy = 81.511433%\n",
      "Train Accuaracy = 100.000000%\n",
      "Test Accuaracy = 81.497490%\n",
      "Train Accuaracy = 100.000000%\n",
      "Test Accuaracy = 81.497490%\n",
      "Train Accuaracy = 43.136041%\n",
      "Test Accuaracy = 30.312326%\n",
      "Train Accuaracy = 94.405391%\n",
      "Test Accuaracy = 77.426102%\n",
      "Train Accuaracy = 100.000000%\n",
      "Test Accuaracy = 84.885666%\n",
      "Train Accuaracy = 100.000000%\n",
      "Test Accuaracy = 85.164529%\n",
      "Train Accuaracy = 100.000000%\n",
      "Test Accuaracy = 85.164529%\n",
      "Train Accuaracy = 100.000000%\n",
      "Test Accuaracy = 85.164529%\n",
      "Train Accuaracy = 100.000000%\n",
      "Test Accuaracy = 85.164529%\n"
     ]
    }
   ],
   "source": [
    "arr1 = []\n",
    "for svc in svm_models:\n",
    "    yhat_tr = svc.predict(X_train)\n",
    "    acc_tr = np.mean(yhat_tr == Y_train)\n",
    "    yhat_ts = svc.predict(X_test)\n",
    "    acc_ts = np.mean(yhat_ts == Y_test)\n",
    "    arr1.append(acc_tr*100)\n",
    "    arr1.append(acc_ts*100)\n",
    "    print('Train Accuaracy = {0:f}%'.format(acc_tr*100))\n",
    "    print('Test Accuaracy = {0:f}%'.format(acc_ts*100))"
   ]
  },
  {
   "cell_type": "code",
   "execution_count": null,
   "id": "0120db6c",
   "metadata": {},
   "outputs": [],
   "source": [
    "arr2 = []\n",
    "for svc in svm_models:\n",
    "    yhat_tr = svc.predict(X_train)\n",
    "    acc_tr = np.mean(yhat_tr == Y_train)\n",
    "    yhat_ts = svc.predict(X_test)\n",
    "    acc_ts = np.mean(yhat_ts == Y_test)\n",
    "    arr2.append(acc_tr*100)\n",
    "    arr2.append(acc_ts*100)\n",
    "    print('Train Accuaracy = {0:f}%'.format(acc_tr*100))\n",
    "    print('Test Accuaracy = {0:f}%'.format(acc_ts*100))"
   ]
  },
  {
   "cell_type": "code",
   "execution_count": 41,
   "id": "0f2ab85a",
   "metadata": {},
   "outputs": [],
   "source": [
    "savedsvm1 = svm_models"
   ]
  },
  {
   "cell_type": "code",
   "execution_count": 9,
   "id": "20357c08",
   "metadata": {},
   "outputs": [],
   "source": [
    "def Train_All(X_train,Y_train,X_test,Y_test):\n",
    "    models = []\n",
    "    iterations = [0,100,200,300]\n",
    "    C = [0.01,0.1, 1, 10, 100, 1000,10000]\n",
    "\n",
    "    logreg = linear_model.LogisticRegression()\n",
    "    logreg.fit(X_train,Y_train)\n",
    "    models.append(logreg)\n",
    "    \n",
    "    for c in C:\n",
    "        logreg = linear_model.LogisticRegression(penalty = \"l2\",C = c,solver = \"sag\")\n",
    "        logreg.fit(X_train,Y_train)\n",
    "        models.append(logreg)\n",
    "    for c in C:\n",
    "        logreg = linear_model.LogisticRegression(penalty = \"l1\",C = c,solver = \"saga\")\n",
    "        logreg.fit(X_train,Y_train)\n",
    "        models.append(logreg)\n",
    "    \n",
    "    svm_models = []\n",
    "\n",
    "    for c in C:\n",
    "        svc = svm.SVC(C=c,probability=False,  kernel=\"linear\",verbose=10)\n",
    "        svc.fit(X_train,Y_train)\n",
    "        svm_models.append(svc)\n",
    "    for c in C:\n",
    "        svc = svm.SVC(C=cprobability=False,  kernel=\"poly\",verbose=10)\n",
    "        svc.fit(X_train,Y_train)\n",
    "        svm_models.append(svc)\n",
    "    for c in C:\n",
    "        svc = svm.SVC(C=c,probability=False,  kernel=\"rbf\",verbose=10)\n",
    "        svc.fit(X_train,Y_train)\n",
    "        svm_models.append(svc)\n",
    "    \n",
    "    return models,svm_models"
   ]
  },
  {
   "cell_type": "code",
   "execution_count": 18,
   "id": "3431b343",
   "metadata": {
    "scrolled": true
   },
   "outputs": [
    {
     "name": "stderr",
     "output_type": "stream",
     "text": [
      "C:\\Users\\nirav\\anaconda3\\lib\\site-packages\\sklearn\\linear_model\\_logistic.py:763: ConvergenceWarning: lbfgs failed to converge (status=1):\n",
      "STOP: TOTAL NO. of ITERATIONS REACHED LIMIT.\n",
      "\n",
      "Increase the number of iterations (max_iter) or scale the data as shown in:\n",
      "    https://scikit-learn.org/stable/modules/preprocessing.html\n",
      "Please also refer to the documentation for alternative solver options:\n",
      "    https://scikit-learn.org/stable/modules/linear_model.html#logistic-regression\n",
      "  n_iter_i = _check_optimize_result(\n",
      "C:\\Users\\nirav\\anaconda3\\lib\\site-packages\\sklearn\\linear_model\\_sag.py:328: ConvergenceWarning: The max_iter was reached which means the coef_ did not converge\n",
      "  warnings.warn(\"The max_iter was reached which means \"\n",
      "C:\\Users\\nirav\\anaconda3\\lib\\site-packages\\sklearn\\linear_model\\_sag.py:328: ConvergenceWarning: The max_iter was reached which means the coef_ did not converge\n",
      "  warnings.warn(\"The max_iter was reached which means \"\n",
      "C:\\Users\\nirav\\anaconda3\\lib\\site-packages\\sklearn\\linear_model\\_sag.py:328: ConvergenceWarning: The max_iter was reached which means the coef_ did not converge\n",
      "  warnings.warn(\"The max_iter was reached which means \"\n",
      "C:\\Users\\nirav\\anaconda3\\lib\\site-packages\\sklearn\\linear_model\\_sag.py:328: ConvergenceWarning: The max_iter was reached which means the coef_ did not converge\n",
      "  warnings.warn(\"The max_iter was reached which means \"\n",
      "C:\\Users\\nirav\\anaconda3\\lib\\site-packages\\sklearn\\linear_model\\_sag.py:328: ConvergenceWarning: The max_iter was reached which means the coef_ did not converge\n",
      "  warnings.warn(\"The max_iter was reached which means \"\n",
      "C:\\Users\\nirav\\anaconda3\\lib\\site-packages\\sklearn\\linear_model\\_sag.py:328: ConvergenceWarning: The max_iter was reached which means the coef_ did not converge\n",
      "  warnings.warn(\"The max_iter was reached which means \"\n",
      "C:\\Users\\nirav\\anaconda3\\lib\\site-packages\\sklearn\\linear_model\\_sag.py:328: ConvergenceWarning: The max_iter was reached which means the coef_ did not converge\n",
      "  warnings.warn(\"The max_iter was reached which means \"\n",
      "C:\\Users\\nirav\\anaconda3\\lib\\site-packages\\sklearn\\linear_model\\_sag.py:328: ConvergenceWarning: The max_iter was reached which means the coef_ did not converge\n",
      "  warnings.warn(\"The max_iter was reached which means \"\n",
      "C:\\Users\\nirav\\anaconda3\\lib\\site-packages\\sklearn\\linear_model\\_sag.py:328: ConvergenceWarning: The max_iter was reached which means the coef_ did not converge\n",
      "  warnings.warn(\"The max_iter was reached which means \"\n",
      "C:\\Users\\nirav\\anaconda3\\lib\\site-packages\\sklearn\\linear_model\\_sag.py:328: ConvergenceWarning: The max_iter was reached which means the coef_ did not converge\n",
      "  warnings.warn(\"The max_iter was reached which means \"\n",
      "C:\\Users\\nirav\\anaconda3\\lib\\site-packages\\sklearn\\linear_model\\_sag.py:328: ConvergenceWarning: The max_iter was reached which means the coef_ did not converge\n",
      "  warnings.warn(\"The max_iter was reached which means \"\n",
      "C:\\Users\\nirav\\anaconda3\\lib\\site-packages\\sklearn\\linear_model\\_sag.py:328: ConvergenceWarning: The max_iter was reached which means the coef_ did not converge\n",
      "  warnings.warn(\"The max_iter was reached which means \"\n",
      "C:\\Users\\nirav\\anaconda3\\lib\\site-packages\\sklearn\\linear_model\\_sag.py:328: ConvergenceWarning: The max_iter was reached which means the coef_ did not converge\n",
      "  warnings.warn(\"The max_iter was reached which means \"\n",
      "C:\\Users\\nirav\\anaconda3\\lib\\site-packages\\sklearn\\linear_model\\_sag.py:328: ConvergenceWarning: The max_iter was reached which means the coef_ did not converge\n",
      "  warnings.warn(\"The max_iter was reached which means \"\n"
     ]
    },
    {
     "name": "stdout",
     "output_type": "stream",
     "text": [
      "[LibSVM][LibSVM][LibSVM][LibSVM][LibSVM][LibSVM][LibSVM][LibSVM][LibSVM][LibSVM][LibSVM][LibSVM][LibSVM][LibSVM][LibSVM][LibSVM][LibSVM][LibSVM][LibSVM][LibSVM][LibSVM][[107 118 127 ... 204 203 202]\n",
      " [155 157 156 ... 103 135 149]\n",
      " [187 188 188 ... 195 194 195]\n",
      " ...\n",
      " [174 174 174 ... 202 200 200]\n",
      " [177 181 184 ...  64  87  93]\n",
      " [179 180 180 ... 205 209 215]]\n",
      "[[11449 13924 16129 ... 41616 41209 40804]\n",
      " [24025 24649 24336 ... 10609 18225 22201]\n",
      " [34969 35344 35344 ... 38025 37636 38025]\n",
      " ...\n",
      " [30276 30276 30276 ... 40804 40000 40000]\n",
      " [31329 32761 33856 ...  4096  7569  8649]\n",
      " [32041 32400 32400 ... 42025 43681 46225]]\n"
     ]
    },
    {
     "name": "stderr",
     "output_type": "stream",
     "text": [
      "C:\\Users\\nirav\\anaconda3\\lib\\site-packages\\sklearn\\linear_model\\_logistic.py:763: ConvergenceWarning: lbfgs failed to converge (status=1):\n",
      "STOP: TOTAL NO. of ITERATIONS REACHED LIMIT.\n",
      "\n",
      "Increase the number of iterations (max_iter) or scale the data as shown in:\n",
      "    https://scikit-learn.org/stable/modules/preprocessing.html\n",
      "Please also refer to the documentation for alternative solver options:\n",
      "    https://scikit-learn.org/stable/modules/linear_model.html#logistic-regression\n",
      "  n_iter_i = _check_optimize_result(\n",
      "C:\\Users\\nirav\\anaconda3\\lib\\site-packages\\sklearn\\linear_model\\_sag.py:328: ConvergenceWarning: The max_iter was reached which means the coef_ did not converge\n",
      "  warnings.warn(\"The max_iter was reached which means \"\n",
      "C:\\Users\\nirav\\anaconda3\\lib\\site-packages\\sklearn\\linear_model\\_sag.py:328: ConvergenceWarning: The max_iter was reached which means the coef_ did not converge\n",
      "  warnings.warn(\"The max_iter was reached which means \"\n",
      "C:\\Users\\nirav\\anaconda3\\lib\\site-packages\\sklearn\\linear_model\\_sag.py:328: ConvergenceWarning: The max_iter was reached which means the coef_ did not converge\n",
      "  warnings.warn(\"The max_iter was reached which means \"\n",
      "C:\\Users\\nirav\\anaconda3\\lib\\site-packages\\sklearn\\linear_model\\_sag.py:328: ConvergenceWarning: The max_iter was reached which means the coef_ did not converge\n",
      "  warnings.warn(\"The max_iter was reached which means \"\n",
      "C:\\Users\\nirav\\anaconda3\\lib\\site-packages\\sklearn\\linear_model\\_sag.py:328: ConvergenceWarning: The max_iter was reached which means the coef_ did not converge\n",
      "  warnings.warn(\"The max_iter was reached which means \"\n",
      "C:\\Users\\nirav\\anaconda3\\lib\\site-packages\\sklearn\\linear_model\\_sag.py:328: ConvergenceWarning: The max_iter was reached which means the coef_ did not converge\n",
      "  warnings.warn(\"The max_iter was reached which means \"\n",
      "C:\\Users\\nirav\\anaconda3\\lib\\site-packages\\sklearn\\linear_model\\_sag.py:328: ConvergenceWarning: The max_iter was reached which means the coef_ did not converge\n",
      "  warnings.warn(\"The max_iter was reached which means \"\n",
      "C:\\Users\\nirav\\anaconda3\\lib\\site-packages\\sklearn\\linear_model\\_sag.py:328: ConvergenceWarning: The max_iter was reached which means the coef_ did not converge\n",
      "  warnings.warn(\"The max_iter was reached which means \"\n",
      "C:\\Users\\nirav\\anaconda3\\lib\\site-packages\\sklearn\\linear_model\\_sag.py:328: ConvergenceWarning: The max_iter was reached which means the coef_ did not converge\n",
      "  warnings.warn(\"The max_iter was reached which means \"\n",
      "C:\\Users\\nirav\\anaconda3\\lib\\site-packages\\sklearn\\linear_model\\_sag.py:328: ConvergenceWarning: The max_iter was reached which means the coef_ did not converge\n",
      "  warnings.warn(\"The max_iter was reached which means \"\n",
      "C:\\Users\\nirav\\anaconda3\\lib\\site-packages\\sklearn\\linear_model\\_sag.py:328: ConvergenceWarning: The max_iter was reached which means the coef_ did not converge\n",
      "  warnings.warn(\"The max_iter was reached which means \"\n",
      "C:\\Users\\nirav\\anaconda3\\lib\\site-packages\\sklearn\\linear_model\\_sag.py:328: ConvergenceWarning: The max_iter was reached which means the coef_ did not converge\n",
      "  warnings.warn(\"The max_iter was reached which means \"\n",
      "C:\\Users\\nirav\\anaconda3\\lib\\site-packages\\sklearn\\linear_model\\_sag.py:328: ConvergenceWarning: The max_iter was reached which means the coef_ did not converge\n",
      "  warnings.warn(\"The max_iter was reached which means \"\n",
      "C:\\Users\\nirav\\anaconda3\\lib\\site-packages\\sklearn\\linear_model\\_sag.py:328: ConvergenceWarning: The max_iter was reached which means the coef_ did not converge\n",
      "  warnings.warn(\"The max_iter was reached which means \"\n"
     ]
    },
    {
     "name": "stdout",
     "output_type": "stream",
     "text": [
      "[LibSVM][LibSVM][LibSVM][LibSVM][LibSVM][LibSVM][LibSVM][LibSVM][LibSVM][LibSVM][LibSVM][LibSVM][LibSVM][LibSVM][LibSVM][LibSVM][LibSVM][LibSVM][LibSVM][LibSVM][LibSVM]"
     ]
    }
   ],
   "source": [
    "model1,model2 = Train_All(X_train,Y_train,X_test,Y_test)"
   ]
  },
  {
   "cell_type": "code",
   "execution_count": 42,
   "id": "eeeb828e",
   "metadata": {},
   "outputs": [
    {
     "name": "stdout",
     "output_type": "stream",
     "text": [
      "[[107 118 127 ... 204 203 202]\n",
      " [155 157 156 ... 103 135 149]\n",
      " [187 188 188 ... 195 194 195]\n",
      " ...\n",
      " [174 174 174 ... 202 200 200]\n",
      " [177 181 184 ...  64  87  93]\n",
      " [179 180 180 ... 205 209 215]]\n",
      "[[11449 13924 16129 ... 41616 41209 40804]\n",
      " [24025 24649 24336 ... 10609 18225 22201]\n",
      " [34969 35344 35344 ... 38025 37636 38025]\n",
      " ...\n",
      " [30276 30276 30276 ... 40804 40000 40000]\n",
      " [31329 32761 33856 ...  4096  7569  8649]\n",
      " [32041 32400 32400 ... 42025 43681 46225]]\n"
     ]
    }
   ],
   "source": [
    "dftrain.shape\n",
    "X_train = dftrain.drop('label',axis=1).values\n",
    "Y_train = dftrain['label'].values\n",
    "X_test = dftest.drop('label',axis=1).values\n",
    "Y_test = dftest['label'].values\n",
    "\n",
    "print(X_train)\n",
    "X_train = X_train*X_train\n",
    "X_test = X_test*X_test\n",
    "print(X_train)\n",
    "\n",
    "scaler = StandardScaler()\n",
    "\n",
    "X_train= scaler.fit_transform(X_train)\n",
    "X_test = scaler.transform(X_test)"
   ]
  },
  {
   "cell_type": "code",
   "execution_count": null,
   "id": "6edf33e5",
   "metadata": {},
   "outputs": [],
   "source": [
    "model1_tr,model2_tr = Train_All(X_train,Y_train,X_test,Y_test)"
   ]
  },
  {
   "cell_type": "code",
   "execution_count": null,
   "id": "f0159350",
   "metadata": {},
   "outputs": [],
   "source": [
    "W = logreg.coef_\n",
    "ndigit = W.shape[0] #how many digits\n",
    "fig, ax = plt.subplots(2,5,figsize=(10, 5))\n",
    "for i in range(ndigit): # loop through each digit\n",
    "    irow = i // 5\n",
    "    icol = i % 5\n",
    "    plt_digit(ax[irow,icol], W[i,:])"
   ]
  },
  {
   "cell_type": "code",
   "execution_count": 34,
   "id": "0d9a0f9e",
   "metadata": {},
   "outputs": [
    {
     "name": "stdout",
     "output_type": "stream",
     "text": [
      "Train Accuaracy = 100.000000%\n",
      "Test Accuaracy = 69.199665%\n",
      "Train Accuaracy = 99.934438%\n",
      "Test Accuaracy = 70.817066%\n",
      "Train Accuaracy = 99.996358%\n",
      "Test Accuaracy = 70.482432%\n",
      "Train Accuaracy = 100.000000%\n",
      "Test Accuaracy = 70.119911%\n",
      "Train Accuaracy = 100.000000%\n",
      "Test Accuaracy = 70.161740%\n",
      "Train Accuaracy = 100.000000%\n",
      "Test Accuaracy = 69.938650%\n",
      "Train Accuaracy = 100.000000%\n",
      "Test Accuaracy = 70.092025%\n",
      "Train Accuaracy = 100.000000%\n",
      "Test Accuaracy = 70.105968%\n",
      "Train Accuaracy = 88.570388%\n",
      "Test Accuaracy = 67.136085%\n",
      "Train Accuaracy = 99.930796%\n",
      "Test Accuaracy = 69.353040%\n",
      "Train Accuaracy = 99.996358%\n",
      "Test Accuaracy = 69.520357%\n",
      "Train Accuaracy = 100.000000%\n",
      "Test Accuaracy = 70.273285%\n",
      "Train Accuaracy = 100.000000%\n",
      "Test Accuaracy = 70.496375%\n",
      "Train Accuaracy = 100.000000%\n",
      "Test Accuaracy = 70.468489%\n",
      "Train Accuaracy = 100.000000%\n",
      "Test Accuaracy = 70.607920%\n"
     ]
    }
   ],
   "source": [
    "accur1 = []\n",
    "for svc in model1:\n",
    "    yhat_tr = svc.predict(X_train)\n",
    "    acc_tr = np.mean(yhat_tr == Y_train)\n",
    "    yhat_ts = svc.predict(X_test)\n",
    "    acc_ts = np.mean(yhat_ts == Y_test)\n",
    "    accur1.append(acc_tr*100)\n",
    "    accur1.append(acc_ts*100)\n",
    "    print('Train Accuaracy = {0:f}%'.format(acc_tr*100))\n",
    "    print('Test Accuaracy = {0:f}%'.format(acc_ts*100))"
   ]
  },
  {
   "cell_type": "code",
   "execution_count": 35,
   "id": "2aaa7755",
   "metadata": {},
   "outputs": [
    {
     "name": "stdout",
     "output_type": "stream",
     "text": [
      "Train Accuaracy = 99.774176%\n",
      "Test Accuaracy = 68.390965%\n",
      "Train Accuaracy = 99.460936%\n",
      "Test Accuaracy = 69.854992%\n",
      "Train Accuaracy = 99.763249%\n",
      "Test Accuaracy = 69.241495%\n",
      "Train Accuaracy = 99.734110%\n",
      "Test Accuaracy = 68.697713%\n",
      "Train Accuaracy = 99.730468%\n",
      "Test Accuaracy = 68.892917%\n",
      "Train Accuaracy = 99.734110%\n",
      "Test Accuaracy = 68.878974%\n",
      "Train Accuaracy = 99.737753%\n",
      "Test Accuaracy = 68.865031%\n",
      "Train Accuaracy = 99.734110%\n",
      "Test Accuaracy = 68.837144%\n",
      "Train Accuaracy = 86.115462%\n",
      "Test Accuaracy = 65.755717%\n",
      "Train Accuaracy = 99.468221%\n",
      "Test Accuaracy = 68.042387%\n",
      "Train Accuaracy = 99.748680%\n",
      "Test Accuaracy = 69.074177%\n",
      "Train Accuaracy = 99.723183%\n",
      "Test Accuaracy = 69.213608%\n",
      "Train Accuaracy = 99.723183%\n",
      "Test Accuaracy = 69.060234%\n",
      "Train Accuaracy = 99.719541%\n",
      "Test Accuaracy = 69.171779%\n",
      "Train Accuaracy = 99.726826%\n",
      "Test Accuaracy = 69.129950%\n"
     ]
    }
   ],
   "source": [
    "accur2 = []\n",
    "for svc in model1_tr:\n",
    "    yhat_tr = svc.predict(X_train)\n",
    "    acc_tr = np.mean(yhat_tr == Y_train)\n",
    "    yhat_ts = svc.predict(X_test)\n",
    "    acc_ts = np.mean(yhat_ts == Y_test)\n",
    "    accur2.append(acc_tr*100)\n",
    "    accur2.append(acc_ts*100)\n",
    "    print('Train Accuaracy = {0:f}%'.format(acc_tr*100))\n",
    "    print('Test Accuaracy = {0:f}%'.format(acc_ts*100))"
   ]
  },
  {
   "cell_type": "code",
   "execution_count": 29,
   "id": "24719c16",
   "metadata": {},
   "outputs": [
    {
     "name": "stdout",
     "output_type": "stream",
     "text": [
      "Train Accuaracy = 99.989073%\n",
      "Test Accuaracy = 78.513664%\n",
      "Train Accuaracy = 99.989073%\n",
      "Test Accuaracy = 78.513664%\n",
      "Train Accuaracy = 99.989073%\n",
      "Test Accuaracy = 78.513664%\n",
      "Train Accuaracy = 99.989073%\n",
      "Test Accuaracy = 78.513664%\n",
      "Train Accuaracy = 99.989073%\n",
      "Test Accuaracy = 78.513664%\n",
      "Train Accuaracy = 99.989073%\n",
      "Test Accuaracy = 78.513664%\n",
      "Train Accuaracy = 99.989073%\n",
      "Test Accuaracy = 78.513664%\n",
      "Train Accuaracy = 98.131488%\n",
      "Test Accuaracy = 75.878416%\n",
      "Train Accuaracy = 98.131488%\n",
      "Test Accuaracy = 75.878416%\n"
     ]
    },
    {
     "ename": "KeyboardInterrupt",
     "evalue": "",
     "output_type": "error",
     "traceback": [
      "\u001b[1;31m---------------------------------------------------------------------------\u001b[0m",
      "\u001b[1;31mKeyboardInterrupt\u001b[0m                         Traceback (most recent call last)",
      "\u001b[1;32m<ipython-input-29-eb1d4f8bd3c5>\u001b[0m in \u001b[0;36m<module>\u001b[1;34m\u001b[0m\n\u001b[0;32m      1\u001b[0m \u001b[1;32mfor\u001b[0m \u001b[0msvc\u001b[0m \u001b[1;32min\u001b[0m \u001b[0mmodel2_tr\u001b[0m\u001b[1;33m:\u001b[0m\u001b[1;33m\u001b[0m\u001b[1;33m\u001b[0m\u001b[0m\n\u001b[1;32m----> 2\u001b[1;33m     \u001b[0myhat_tr\u001b[0m \u001b[1;33m=\u001b[0m \u001b[0msvc\u001b[0m\u001b[1;33m.\u001b[0m\u001b[0mpredict\u001b[0m\u001b[1;33m(\u001b[0m\u001b[0mX_train\u001b[0m\u001b[1;33m)\u001b[0m\u001b[1;33m\u001b[0m\u001b[1;33m\u001b[0m\u001b[0m\n\u001b[0m\u001b[0;32m      3\u001b[0m     \u001b[0macc_tr\u001b[0m \u001b[1;33m=\u001b[0m \u001b[0mnp\u001b[0m\u001b[1;33m.\u001b[0m\u001b[0mmean\u001b[0m\u001b[1;33m(\u001b[0m\u001b[0myhat_tr\u001b[0m \u001b[1;33m==\u001b[0m \u001b[0mY_train\u001b[0m\u001b[1;33m)\u001b[0m\u001b[1;33m\u001b[0m\u001b[1;33m\u001b[0m\u001b[0m\n\u001b[0;32m      4\u001b[0m     \u001b[0myhat_ts\u001b[0m \u001b[1;33m=\u001b[0m \u001b[0msvc\u001b[0m\u001b[1;33m.\u001b[0m\u001b[0mpredict\u001b[0m\u001b[1;33m(\u001b[0m\u001b[0mX_test\u001b[0m\u001b[1;33m)\u001b[0m\u001b[1;33m\u001b[0m\u001b[1;33m\u001b[0m\u001b[0m\n\u001b[0;32m      5\u001b[0m     \u001b[0macc_ts\u001b[0m \u001b[1;33m=\u001b[0m \u001b[0mnp\u001b[0m\u001b[1;33m.\u001b[0m\u001b[0mmean\u001b[0m\u001b[1;33m(\u001b[0m\u001b[0myhat_ts\u001b[0m \u001b[1;33m==\u001b[0m \u001b[0mY_test\u001b[0m\u001b[1;33m)\u001b[0m\u001b[1;33m\u001b[0m\u001b[1;33m\u001b[0m\u001b[0m\n",
      "\u001b[1;32m~\\anaconda3\\lib\\site-packages\\sklearn\\svm\\_base.py\u001b[0m in \u001b[0;36mpredict\u001b[1;34m(self, X)\u001b[0m\n\u001b[0;32m    622\u001b[0m             \u001b[0my\u001b[0m \u001b[1;33m=\u001b[0m \u001b[0mnp\u001b[0m\u001b[1;33m.\u001b[0m\u001b[0margmax\u001b[0m\u001b[1;33m(\u001b[0m\u001b[0mself\u001b[0m\u001b[1;33m.\u001b[0m\u001b[0mdecision_function\u001b[0m\u001b[1;33m(\u001b[0m\u001b[0mX\u001b[0m\u001b[1;33m)\u001b[0m\u001b[1;33m,\u001b[0m \u001b[0maxis\u001b[0m\u001b[1;33m=\u001b[0m\u001b[1;36m1\u001b[0m\u001b[1;33m)\u001b[0m\u001b[1;33m\u001b[0m\u001b[1;33m\u001b[0m\u001b[0m\n\u001b[0;32m    623\u001b[0m         \u001b[1;32melse\u001b[0m\u001b[1;33m:\u001b[0m\u001b[1;33m\u001b[0m\u001b[1;33m\u001b[0m\u001b[0m\n\u001b[1;32m--> 624\u001b[1;33m             \u001b[0my\u001b[0m \u001b[1;33m=\u001b[0m \u001b[0msuper\u001b[0m\u001b[1;33m(\u001b[0m\u001b[1;33m)\u001b[0m\u001b[1;33m.\u001b[0m\u001b[0mpredict\u001b[0m\u001b[1;33m(\u001b[0m\u001b[0mX\u001b[0m\u001b[1;33m)\u001b[0m\u001b[1;33m\u001b[0m\u001b[1;33m\u001b[0m\u001b[0m\n\u001b[0m\u001b[0;32m    625\u001b[0m         \u001b[1;32mreturn\u001b[0m \u001b[0mself\u001b[0m\u001b[1;33m.\u001b[0m\u001b[0mclasses_\u001b[0m\u001b[1;33m.\u001b[0m\u001b[0mtake\u001b[0m\u001b[1;33m(\u001b[0m\u001b[0mnp\u001b[0m\u001b[1;33m.\u001b[0m\u001b[0masarray\u001b[0m\u001b[1;33m(\u001b[0m\u001b[0my\u001b[0m\u001b[1;33m,\u001b[0m \u001b[0mdtype\u001b[0m\u001b[1;33m=\u001b[0m\u001b[0mnp\u001b[0m\u001b[1;33m.\u001b[0m\u001b[0mintp\u001b[0m\u001b[1;33m)\u001b[0m\u001b[1;33m)\u001b[0m\u001b[1;33m\u001b[0m\u001b[1;33m\u001b[0m\u001b[0m\n\u001b[0;32m    626\u001b[0m \u001b[1;33m\u001b[0m\u001b[0m\n",
      "\u001b[1;32m~\\anaconda3\\lib\\site-packages\\sklearn\\svm\\_base.py\u001b[0m in \u001b[0;36mpredict\u001b[1;34m(self, X)\u001b[0m\n\u001b[0;32m    342\u001b[0m         \u001b[0mX\u001b[0m \u001b[1;33m=\u001b[0m \u001b[0mself\u001b[0m\u001b[1;33m.\u001b[0m\u001b[0m_validate_for_predict\u001b[0m\u001b[1;33m(\u001b[0m\u001b[0mX\u001b[0m\u001b[1;33m)\u001b[0m\u001b[1;33m\u001b[0m\u001b[1;33m\u001b[0m\u001b[0m\n\u001b[0;32m    343\u001b[0m         \u001b[0mpredict\u001b[0m \u001b[1;33m=\u001b[0m \u001b[0mself\u001b[0m\u001b[1;33m.\u001b[0m\u001b[0m_sparse_predict\u001b[0m \u001b[1;32mif\u001b[0m \u001b[0mself\u001b[0m\u001b[1;33m.\u001b[0m\u001b[0m_sparse\u001b[0m \u001b[1;32melse\u001b[0m \u001b[0mself\u001b[0m\u001b[1;33m.\u001b[0m\u001b[0m_dense_predict\u001b[0m\u001b[1;33m\u001b[0m\u001b[1;33m\u001b[0m\u001b[0m\n\u001b[1;32m--> 344\u001b[1;33m         \u001b[1;32mreturn\u001b[0m \u001b[0mpredict\u001b[0m\u001b[1;33m(\u001b[0m\u001b[0mX\u001b[0m\u001b[1;33m)\u001b[0m\u001b[1;33m\u001b[0m\u001b[1;33m\u001b[0m\u001b[0m\n\u001b[0m\u001b[0;32m    345\u001b[0m \u001b[1;33m\u001b[0m\u001b[0m\n\u001b[0;32m    346\u001b[0m     \u001b[1;32mdef\u001b[0m \u001b[0m_dense_predict\u001b[0m\u001b[1;33m(\u001b[0m\u001b[0mself\u001b[0m\u001b[1;33m,\u001b[0m \u001b[0mX\u001b[0m\u001b[1;33m)\u001b[0m\u001b[1;33m:\u001b[0m\u001b[1;33m\u001b[0m\u001b[1;33m\u001b[0m\u001b[0m\n",
      "\u001b[1;32m~\\anaconda3\\lib\\site-packages\\sklearn\\svm\\_base.py\u001b[0m in \u001b[0;36m_dense_predict\u001b[1;34m(self, X)\u001b[0m\n\u001b[0;32m    359\u001b[0m         \u001b[0msvm_type\u001b[0m \u001b[1;33m=\u001b[0m \u001b[0mLIBSVM_IMPL\u001b[0m\u001b[1;33m.\u001b[0m\u001b[0mindex\u001b[0m\u001b[1;33m(\u001b[0m\u001b[0mself\u001b[0m\u001b[1;33m.\u001b[0m\u001b[0m_impl\u001b[0m\u001b[1;33m)\u001b[0m\u001b[1;33m\u001b[0m\u001b[1;33m\u001b[0m\u001b[0m\n\u001b[0;32m    360\u001b[0m \u001b[1;33m\u001b[0m\u001b[0m\n\u001b[1;32m--> 361\u001b[1;33m         return libsvm.predict(\n\u001b[0m\u001b[0;32m    362\u001b[0m             \u001b[0mX\u001b[0m\u001b[1;33m,\u001b[0m \u001b[0mself\u001b[0m\u001b[1;33m.\u001b[0m\u001b[0msupport_\u001b[0m\u001b[1;33m,\u001b[0m \u001b[0mself\u001b[0m\u001b[1;33m.\u001b[0m\u001b[0msupport_vectors_\u001b[0m\u001b[1;33m,\u001b[0m \u001b[0mself\u001b[0m\u001b[1;33m.\u001b[0m\u001b[0m_n_support\u001b[0m\u001b[1;33m,\u001b[0m\u001b[1;33m\u001b[0m\u001b[1;33m\u001b[0m\u001b[0m\n\u001b[0;32m    363\u001b[0m             \u001b[0mself\u001b[0m\u001b[1;33m.\u001b[0m\u001b[0m_dual_coef_\u001b[0m\u001b[1;33m,\u001b[0m \u001b[0mself\u001b[0m\u001b[1;33m.\u001b[0m\u001b[0m_intercept_\u001b[0m\u001b[1;33m,\u001b[0m\u001b[1;33m\u001b[0m\u001b[1;33m\u001b[0m\u001b[0m\n",
      "\u001b[1;31mKeyboardInterrupt\u001b[0m: "
     ]
    }
   ],
   "source": [
    "for svc in model2_tr:\n",
    "    yhat_tr = svc.predict(X_train)\n",
    "    acc_tr = np.mean(yhat_tr == Y_train)\n",
    "    yhat_ts = svc.predict(X_test)\n",
    "    acc_ts = np.mean(yhat_ts == Y_test)\n",
    "    print('Train Accuaracy = {0:f}%'.format(acc_tr*100))\n",
    "    print('Test Accuaracy = {0:f}%'.format(acc_ts*100))"
   ]
  },
  {
   "cell_type": "code",
   "execution_count": 129,
   "id": "b63fc663",
   "metadata": {},
   "outputs": [
    {
     "data": {
      "text/plain": [
       "<matplotlib.legend.Legend at 0x1ca9623f520>"
      ]
     },
     "execution_count": 129,
     "metadata": {},
     "output_type": "execute_result"
    },
    {
     "data": {
      "image/png": "[encoded data removed]",
      "text/plain": [
       "<Figure size 432x288 with 1 Axes>"
      ]
     },
     "metadata": {
      "needs_background": "light"
     },
     "output_type": "display_data"
    }
   ],
   "source": [
    "for i in range(7):  \n",
    "    x1,y1 = i-2,accur1[2+(2*i)]\n",
    "    x2,y2 = i-2,accur1[16+(2*i)]\n",
    "    x3,y3 = i-2,accur2[2+(2*i)]\n",
    "    x4,y4 = i-2,accur2[16+(2*i)]\n",
    "    plt.plot(x1,y1,'r.')\n",
    "    plt.plot(x2,y2,'b.')\n",
    "    plt.plot(x3,y3,'g.')\n",
    "    plt.plot(x4,y4,'y.')\n",
    "\n",
    "for i in range(6):  \n",
    "    x = np.linspace(i-2,i-1,100)\n",
    "    slope1 = (accur1[2+(2*(i+1))] - accur1[2+(2*i)])/((i-1)-(i-2))\n",
    "    slope2 = (accur1[16+(2*(i+1))] - accur1[16+(2*i)])/((i-1)-(i-2))\n",
    "    slope3 = (accur2[2+(2*(i+1))] - accur2[2+(2*i)])/((i-1)-(i-2))\n",
    "    slope4 = (accur2[16+(2*(i+1))] - accur2[16+(2*i)])/((i-1)-(i-2))\n",
    "    y1 = slope1*(x-(i-2)) + accur1[2+(2*i)]\n",
    "    y2 = slope2*(x-(i-2)) + accur1[16+(2*i)]\n",
    "    y3 = slope3*(x-(i-2)) + accur2[2+(2*i)]\n",
    "    y4 = slope4*(x-(i-2)) + accur2[16+(2*i)]\n",
    "    plt.plot(x, y1, '-r', label='wx')\n",
    "    plt.plot(x, y2, '-b', label='wx')\n",
    "    plt.plot(x, y3, '-g', label='wx')\n",
    "    plt.plot(x, y4, '-y', label='wx')\n",
    "\n",
    "plt.xlabel(\"C(10^X)\", fontsize=16)\n",
    "plt.ylabel(\"Accuracy\", fontsize=16)\n",
    "# plt.ylim(-1,3)\n",
    "# plt.xlim(-1,3)\n",
    "plt.title(\"Training Data Logistic Regression\")\n",
    "plt.grid()\n",
    "plt.legend(['L2(normal)','L1(normal)','L2(squared)','L1(squared)'],loc='lower right')"
   ]
  },
  {
   "cell_type": "code",
   "execution_count": 130,
   "id": "ee2faa55",
   "metadata": {},
   "outputs": [
    {
     "data": {
      "text/plain": [
       "<matplotlib.legend.Legend at 0x1ca961e6ca0>"
      ]
     },
     "execution_count": 130,
     "metadata": {},
     "output_type": "execute_result"
    },
    {
     "data": {
      "image/png": "[encoded data removed]",
      "text/plain": [
       "<Figure size 432x288 with 1 Axes>"
      ]
     },
     "metadata": {
      "needs_background": "light"
     },
     "output_type": "display_data"
    }
   ],
   "source": [
    "for i in range(7):  \n",
    "    x1,y1 = i-2,accur1[3+(2*i)]\n",
    "    x2,y2 = i-2,accur1[17+(2*i)]\n",
    "    x3,y3 = i-2,accur2[3+(2*i)]\n",
    "    x4,y4 = i-2,accur2[17+(2*i)]\n",
    "    plt.plot(x1,y1,'r.')\n",
    "    plt.plot(x2,y2,'b.')\n",
    "    plt.plot(x3,y3,'g.')\n",
    "    plt.plot(x4,y4,'y.')\n",
    "\n",
    "for i in range(6):  \n",
    "    x = np.linspace(i-2,i-1,100)\n",
    "    slope1 = (accur1[3+(2*(i+1))] - accur1[3+(2*i)])\n",
    "    slope2 = (accur1[17+(2*(i+1))] - accur1[17+(2*i)])\n",
    "    slope3 = (accur2[3+(2*(i+1))] - accur2[3+(2*i)])\n",
    "    slope4 = (accur2[17+(2*(i+1))] - accur2[17+(2*i)])\n",
    "    y1 = slope1*(x-(i-2)) + accur1[3+(2*i)]\n",
    "    y2 = slope2*(x-(i-2)) + accur1[17+(2*i)]\n",
    "    y3 = slope3*(x-(i-2)) + accur2[3+(2*i)]\n",
    "    y4 = slope4*(x-(i-2)) + accur2[17+(2*i)]\n",
    "    plt.plot(x, y1, '-r', label='wx')\n",
    "    plt.plot(x, y2, '-b', label='wx')\n",
    "    plt.plot(x, y3, '-g', label='wx')\n",
    "    plt.plot(x, y4, '-y', label='wx')\n",
    "\n",
    "plt.xlabel(\"C(10^X)\", fontsize=16)\n",
    "plt.ylabel(\"Accuracy\", fontsize=16)\n",
    "plt.title(\"Testing Data Logistic Regression\")\n",
    "# plt.ylim(-1,3)\n",
    "# plt.xlim(-1,3)\n",
    "plt.grid()\n",
    "plt.legend(['L2(normal)','L1(normal)','L2(squared)','L1(squared)'],loc='lower right')"
   ]
  },
  {
   "cell_type": "code",
   "execution_count": 131,
   "id": "d395ca13",
   "metadata": {},
   "outputs": [
    {
     "data": {
      "text/plain": [
       "<matplotlib.colorbar.Colorbar at 0x1ca963f45b0>"
      ]
     },
     "execution_count": 131,
     "metadata": {},
     "output_type": "execute_result"
    },
    {
     "data": {
      "image/png": "[encoded data removed]",
      "text/plain": [
       "<Figure size 432x288 with 2 Axes>"
      ]
     },
     "metadata": {
      "needs_background": "light"
     },
     "output_type": "display_data"
    }
   ],
   "source": [
    "from sklearn.metrics import confusion_matrix\n",
    "\n",
    "best_Log_reg = model1[1]\n",
    "yhat = best_Log_reg.predict(X_test)\n",
    "Con = confusion_matrix(Y_test,yhat)\n",
    "Consum = np.sum(Con,1)\n",
    "Con = Con / Consum[None,:]\n",
    "\n",
    "plt.imshow(Con, interpolation='none')\n",
    "\n",
    "plt.title(\"Logistic Regression Confusion Matrix\")\n",
    "plt.colorbar()\n",
    "\n",
    "\n"
   ]
  },
  {
   "cell_type": "code",
   "execution_count": 135,
   "id": "52233527",
   "metadata": {},
   "outputs": [
    {
     "name": "stdout",
     "output_type": "stream",
     "text": [
      "42\n"
     ]
    },
    {
     "data": {
      "text/plain": [
       "<matplotlib.legend.Legend at 0x1ca9675b340>"
      ]
     },
     "execution_count": 135,
     "metadata": {},
     "output_type": "execute_result"
    },
    {
     "data": {
      "image/png": "[encoded data removed]",
      "text/plain": [
       "<Figure size 432x288 with 1 Axes>"
      ]
     },
     "metadata": {
      "needs_background": "light"
     },
     "output_type": "display_data"
    }
   ],
   "source": [
    "print(len(arr1))\n",
    "\n",
    "for i in range(7):  \n",
    "    x1,y1 = i-2,arr1[(2*i)]\n",
    "    x2,y2 = i-2,arr1[14+(2*i)]\n",
    "    x3,y3 = i-2,arr1[21+(2*i)]\n",
    "\n",
    "    plt.plot(x1,y1,'r.')\n",
    "    plt.plot(x2,y2,'b.')\n",
    "    plt.plot(x3,y3,'g.')\n",
    "\n",
    "\n",
    "for i in range(6):  \n",
    "    x = np.linspace(i-2,i-1,100)\n",
    "    slope1 = (arr1[(2*(i+1))] - arr1[(2*i)])\n",
    "    slope2 = (arr1[14+(2*(i+1))] - arr1[14+(2*i)])\n",
    "    slope3 = (arr1[21+(2*(i+1))] - arr1[21+(2*i)])\n",
    "    \n",
    "    y1 = slope1*(x-(i-2)) + arr1[(2*i)]\n",
    "    y2 = slope2*(x-(i-2)) + arr1[14+(2*i)]\n",
    "    y3 = slope3*(x-(i-2)) + arr1[21+(2*i)]\n",
    "  \n",
    "    plt.plot(x, y1, '-r', label='wx')\n",
    "    plt.plot(x, y2, '-b', label='wx')\n",
    "    plt.plot(x, y3, '-g', label='wx')\n",
    "\n",
    "\n",
    "plt.xlabel(\"C(10^X)\", fontsize=16)\n",
    "plt.ylabel(\"Accuracy\", fontsize=16)\n",
    "plt.title(\"Training Data SVM\")\n",
    "# plt.ylim(-1,3)\n",
    "# plt.xlim(-1,3)\n",
    "plt.grid()\n",
    "plt.legend(['Linear','Polynomial','RBF'],loc='lower right')"
   ]
  },
  {
   "cell_type": "code",
   "execution_count": 134,
   "id": "6801c329",
   "metadata": {},
   "outputs": [
    {
     "name": "stdout",
     "output_type": "stream",
     "text": [
      "42\n"
     ]
    },
    {
     "data": {
      "text/plain": [
       "<matplotlib.legend.Legend at 0x1ca9664f880>"
      ]
     },
     "execution_count": 134,
     "metadata": {},
     "output_type": "execute_result"
    },
    {
     "data": {
      "image/png": "[encoded data removed]",
      "text/plain": [
       "<Figure size 432x288 with 1 Axes>"
      ]
     },
     "metadata": {
      "needs_background": "light"
     },
     "output_type": "display_data"
    }
   ],
   "source": [
    "print(len(arr1))\n",
    "\n",
    "for i in range(7):  \n",
    "    x1,y1 = i-2,arr1[1+(2*i)]\n",
    "    x2,y2 = i-2,arr1[15+(2*i)]\n",
    "    x3,y3 = i-2,arr1[22+(2*i)]\n",
    "\n",
    "    plt.plot(x1,y1,'r.')\n",
    "    plt.plot(x2,y2,'b.')\n",
    "    plt.plot(x3,y3,'g.')\n",
    "\n",
    "\n",
    "for i in range(6):  \n",
    "    x = np.linspace(i-2,i-1,100)\n",
    "    slope1 = (arr1[1+(2*(i+1))] - arr1[1+(2*i)])\n",
    "    slope2 = (arr1[15+(2*(i+1))] - arr1[15+(2*i)])\n",
    "    slope3 = (arr1[22+(2*(i+1))] - arr1[22+(2*i)])\n",
    "    \n",
    "    y1 = slope1*(x-(i-2)) + arr1[1+(2*i)]\n",
    "    y2 = slope2*(x-(i-2)) + arr1[15+(2*i)]\n",
    "    y3 = slope3*(x-(i-2)) + arr1[22+(2*i)]\n",
    "  \n",
    "    plt.plot(x, y1, '-r', label='wx')\n",
    "    plt.plot(x, y2, '-b', label='wx')\n",
    "    plt.plot(x, y3, '-g', label='wx')\n",
    "\n",
    "\n",
    "plt.xlabel(\"C(10^X)\", fontsize=16)\n",
    "plt.ylabel(\"Accuracy\", fontsize=16)\n",
    "plt.title(\"Testing Data SVM\")\n",
    "# plt.ylim(-1,3)\n",
    "# plt.xlim(-1,3)\n",
    "plt.grid()\n",
    "plt.legend(['Linear','Polynomial','RBF'],loc='lower right')"
   ]
  },
  {
   "cell_type": "code",
   "execution_count": 140,
   "id": "494ed690",
   "metadata": {},
   "outputs": [
    {
     "name": "stdout",
     "output_type": "stream",
     "text": [
      "[LibSVM]8\n"
     ]
    },
    {
     "data": {
      "text/plain": [
       "<matplotlib.colorbar.Colorbar at 0x1ca9681b460>"
      ]
     },
     "execution_count": 140,
     "metadata": {},
     "output_type": "execute_result"
    },
    {
     "data": {
      "image/png": "[encoded data removed]",
      "text/plain": [
       "<Figure size 432x288 with 2 Axes>"
      ]
     },
     "metadata": {
      "needs_background": "light"
     },
     "output_type": "display_data"
    }
   ],
   "source": [
    "svc = svm.SVC(C=10,probability=False,  kernel=\"rbf\",verbose=10)\n",
    "svc.fit(X_train,Y_train)\n",
    "\n",
    "print(len(svm_models))\n",
    "from sklearn.metrics import confusion_matrix\n",
    "\n",
    "yhat =svc.predict(X_test)\n",
    "Con = confusion_matrix(Y_test,yhat)\n",
    "Consum = np.sum(Con,1)\n",
    "Con = Con / Consum[None,:]\n",
    "\n",
    "plt.imshow(Con, interpolation='none')\n",
    "\n",
    "plt.title(\"Logistic Regression Confusion Matrix\")\n",
    "plt.colorbar()\n",
    "\n",
    "\n"
   ]
  },
  {
   "cell_type": "code",
   "execution_count": null,
   "id": "9d903503",
   "metadata": {},
   "outputs": [],
   "source": []
  }
 ],
 "metadata": {
  "kernelspec": {
   "display_name": "Python 3",
   "language": "python",
   "name": "python3"
  },
  "language_info": {
   "codemirror_mode": {
    "name": "ipython",
    "version": 3
   },
   "file_extension": ".py",
   "mimetype": "text/x-python",
   "name": "python",
   "nbconvert_exporter": "python",
   "pygments_lexer": "ipython3",
   "version": "3.8.8"
  }
 },
 "nbformat": 4,
 "nbformat_minor": 5
}
